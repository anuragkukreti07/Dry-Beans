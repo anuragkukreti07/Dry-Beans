{
 "cells": [
  {
   "cell_type": "code",
   "execution_count": 1,
   "id": "da839d63-0572-4fc6-a77b-a159bd735752",
   "metadata": {},
   "outputs": [
    {
     "name": "stdout",
     "output_type": "stream",
     "text": [
      "\u001b[33mWARNING: The directory '/home/anurag/.cache/pip' or its parent directory is not owned or is not writable by the current user. The cache has been disabled. Check the permissions and owner of that directory. If executing pip with sudo, you should use sudo's -H flag.\u001b[0m\u001b[33m\n",
      "\u001b[0mCollecting wittgenstein\n",
      "  Downloading wittgenstein-0.3.4-py3-none-any.whl (110 kB)\n",
      "\u001b[2K     \u001b[38;2;114;156;31m━━━━━━━━━━━━━━━━━━━━━━━━━━━━━━━━━━━━━━━\u001b[0m \u001b[32m110.6/110.6 KB\u001b[0m \u001b[31m1.5 MB/s\u001b[0m eta \u001b[36m0:00:00\u001b[0m MB/s\u001b[0m eta \u001b[36m0:00:01\u001b[0m\n",
      "\u001b[?25hRequirement already satisfied: scikit-learn in /usr/local/lib/python3.10/dist-packages (1.3.2)\n",
      "Requirement already satisfied: pandas in /home/anurag/.local/lib/python3.10/site-packages (from wittgenstein) (2.1.2)\n",
      "Requirement already satisfied: numpy in /usr/local/lib/python3.10/dist-packages (from wittgenstein) (1.26.1)\n",
      "Requirement already satisfied: threadpoolctl>=2.0.0 in /usr/local/lib/python3.10/dist-packages (from scikit-learn) (3.2.0)\n",
      "Requirement already satisfied: scipy>=1.5.0 in /usr/local/lib/python3.10/dist-packages (from scikit-learn) (1.11.3)\n",
      "Requirement already satisfied: joblib>=1.1.1 in /usr/local/lib/python3.10/dist-packages (from scikit-learn) (1.3.2)\n",
      "Requirement already satisfied: tzdata>=2022.1 in /home/anurag/.local/lib/python3.10/site-packages (from pandas->wittgenstein) (2023.3)\n",
      "Requirement already satisfied: pytz>=2020.1 in /usr/lib/python3/dist-packages (from pandas->wittgenstein) (2022.1)\n",
      "Requirement already satisfied: python-dateutil>=2.8.2 in /home/anurag/.local/lib/python3.10/site-packages (from pandas->wittgenstein) (2.8.2)\n",
      "Requirement already satisfied: six>=1.5 in /usr/lib/python3/dist-packages (from python-dateutil>=2.8.2->pandas->wittgenstein) (1.16.0)\n",
      "Installing collected packages: wittgenstein\n",
      "Successfully installed wittgenstein-0.3.4\n",
      "\u001b[33mWARNING: Running pip as the 'root' user can result in broken permissions and conflicting behaviour with the system package manager. It is recommended to use a virtual environment instead: https://pip.pypa.io/warnings/venv\u001b[0m\u001b[33m\n",
      "\u001b[0mNote: you may need to restart the kernel to use updated packages.\n"
     ]
    }
   ],
   "source": [
    "pip install wittgenstein scikit-learn\n"
   ]
  },
  {
   "cell_type": "code",
   "execution_count": 7,
   "id": "3ace49d7-9fe4-431e-b61c-6b7d6183d691",
   "metadata": {},
   "outputs": [
    {
     "name": "stdout",
     "output_type": "stream",
     "text": [
      "Accuracy: 0.98\n",
      "Generated Rules:\n",
      "[AspectRation=<1.27^roundness=>0.95^Solidity=>0.9914]\n",
      "[AspectRation=<1.27^ShapeFactor2=>0.0025^Compactness=>0.89^MajorAxisLength=233.45-246.91]\n",
      "[AspectRation=<1.27^ShapeFactor4=>0.9987^Perimeter=646.58-686.52]\n",
      "[AspectRation=<1.27^ShapeFactor1=0.0056-0.0062]\n",
      "[Compactness=0.85-0.89^MinorAxisLength=198.49-207.53^ShapeFactor4=>0.9987]\n",
      "[Compactness=0.85-0.89^Solidity=>0.9914^MajorAxisLength=259.63-276.42]\n",
      "[Compactness=0.85-0.89^ShapeFactor1=0.0056-0.0062^Perimeter=754.78-795.32]\n",
      "[AspectRation=<1.27^MinorAxisLength=198.49-207.53]\n",
      "[Compactness=0.85-0.89^MajorAxisLength=246.91-259.63^MinorAxisLength=192.58-198.49]\n",
      "[ShapeFactor3=0.72-0.79^ShapeFactor1=0.0066-0.0069^ShapeFactor4=>0.9987^MinorAxisLength=186.56-192.58]\n",
      "[Compactness=0.85-0.89^Perimeter=795.32-851.03]\n",
      "[AspectRation=<1.27^Perimeter=646.58-686.52]\n",
      "[Eccentricity=0.61-0.7^ShapeFactor1=0.0066-0.0069^MajorAxisLength=233.45-246.91]\n",
      "[Eccentricity=0.61-0.7^MinorAxisLength=198.49-207.53^Compactness=0.85-0.89^Perimeter=719.8-754.78]\n",
      "[Eccentricity=0.61-0.7^MajorAxisLength=259.63-276.42^ShapeFactor4=>0.9987]\n",
      "[roundness=0.92-0.95^AspectRation=<1.27^Perimeter=686.52-719.8]\n",
      "[Eccentricity=0.61-0.7^MajorAxisLength=259.63-276.42^ShapeFactor4=0.997-0.9976^AspectRation=1.27-1.39]\n",
      "[AspectRation=<1.27^ShapeFactor4=>0.9987]\n",
      "[Eccentricity=0.61-0.7^ShapeFactor1=0.0056-0.0062^Extent=0.73-0.75]\n",
      "[Eccentricity=0.61-0.7^Perimeter=754.78-795.32^ShapeFactor4=0.9981-0.9987]\n",
      "[Eccentricity=0.61-0.7^ShapeFactor1=0.0066-0.0069^ShapeFactor2=0.0023-0.0025^ShapeFactor4=0.9981-0.9987]\n",
      "[roundness=0.92-0.95^Area=49130.0-56129.5^AspectRation=<1.27]\n",
      "[roundness=0.92-0.95^ConvexArea=41568.6-45208.5^Solidity=>0.9914^ShapeFactor1=0.0064-0.0066]\n",
      "[AspectRation=1.27-1.39^MinorAxisLength=179.72-186.56^ShapeFactor4=>0.9987^Area=30349.7-34615.0]\n",
      "[roundness=0.92-0.95^ShapeFactor2=0.0017-0.0019^MajorAxisLength=296.8-325.94]\n",
      "[AspectRation=1.27-1.39^ShapeFactor2=0.0021-0.0023^Perimeter=754.78-795.32^MinorAxisLength=198.49-207.53]\n",
      "[Eccentricity=0.61-0.7^Perimeter=851.03-935.25^roundness=<0.79]\n",
      "[roundness=0.92-0.95^MajorAxisLength=276.42-296.8^ShapeFactor4=>0.9987]\n",
      "[roundness=0.92-0.95^Perimeter=754.78-795.32^ShapeFactor2=0.0017-0.0019^MinorAxisLength=198.49-207.53]\n",
      "[Compactness=>0.89^ConvexArea=30692.8-35015.4^ShapeFactor1=0.0066-0.0069]\n",
      "[Eccentricity=0.61-0.7^MinorAxisLength=192.58-198.49^Solidity=0.9883-0.989]\n",
      "[ShapeFactor4=>0.9987^ShapeFactor1=0.0056-0.0062^Perimeter=795.32-851.03]\n",
      "[roundness=0.92-0.95^Solidity=>0.9914^Area=49130.0-56129.5]\n",
      "[Eccentricity=<0.61^ShapeFactor2=>0.0025^Extent=0.79-0.8]\n",
      "[Compactness=>0.89^MinorAxisLength=179.72-186.56]\n"
     ]
    }
   ],
   "source": [
    "import pandas as pd\n",
    "from sklearn.model_selection import train_test_split\n",
    "from sklearn.metrics import accuracy_score\n",
    "from wittgenstein import RIPPER\n",
    "\n",
    "# Load the dataset\n",
    "data = pd.read_excel('Dry_Bean_Dataset.xlsx')\n",
    "\n",
    "# Separate features and target variable\n",
    "X = data.drop('Class', axis=1)\n",
    "y = data['Class']\n",
    "\n",
    "# Specify the positive class\n",
    "positive_class = 'SEKER'\n",
    "\n",
    "# Convert target variable to binary (0 and 1)\n",
    "y_binary = (y == positive_class).astype(int)\n",
    "\n",
    "# Check if there are positive examples in the dataset\n",
    "if 1 not in y_binary.values:\n",
    "    raise ValueError(f\"No instances of positive class '{positive_class}' found in the dataset.\")\n",
    "\n",
    "# Split the data into training and testing sets, ensuring positive instances are in both sets\n",
    "X_train, X_test, y_train, y_test = train_test_split(X, y_binary, test_size=0.2, random_state=42, stratify=y_binary)\n",
    "\n",
    "# Initialize the RIPPER classifier\n",
    "ripper_classifier = RIPPER()\n",
    "\n",
    "# Fit the RIPPER classifier on the training data\n",
    "ripper_classifier.fit(X_train, y_train)\n",
    "\n",
    "# Make predictions on the test data\n",
    "predictions = ripper_classifier.predict(X_test)\n",
    "\n",
    "# Evaluate the accuracy of the model\n",
    "accuracy = accuracy_score(y_test, predictions)\n",
    "print(f\"Accuracy: {accuracy:.2f}\")\n",
    "\n",
    "# Print the generated rules\n",
    "print(\"Generated Rules:\")\n",
    "for rule in ripper_classifier.ruleset_:\n",
    "    print(rule)\n"
   ]
  },
  {
   "cell_type": "code",
   "execution_count": 6,
   "id": "62d0dc88-e940-47ed-aac0-92805f9d0192",
   "metadata": {},
   "outputs": [
    {
     "name": "stdout",
     "output_type": "stream",
     "text": [
      "Unique Classes: ['SEKER' 'BARBUNYA' 'BOMBAY' 'CALI' 'HOROZ' 'SIRA' 'DERMASON']\n"
     ]
    }
   ],
   "source": [
    "import pandas as pd\n",
    "\n",
    "# Load the dataset\n",
    "data = pd.read_excel('Dry_Bean_Dataset.xlsx')\n",
    "\n",
    "# Print unique values in the 'Class' column\n",
    "unique_classes = data['Class'].unique()\n",
    "print(\"Unique Classes:\", unique_classes)\n"
   ]
  },
  {
   "cell_type": "code",
   "execution_count": 26,
   "id": "a9c53e0d-9efc-4893-b8bb-17d6b89d242b",
   "metadata": {},
   "outputs": [
    {
     "name": "stdout",
     "output_type": "stream",
     "text": [
      "9\n",
      "6\n",
      "3\n"
     ]
    }
   ],
   "source": [
    "arr = [1,2,3,4,5,6,7,8,9]\n",
    "for i in arr[::-3]:\n",
    "    print(i)\n",
    "    "
   ]
  },
  {
   "cell_type": "code",
   "execution_count": null,
   "id": "1bf3f0ca-b30f-43bc-9b5d-77221cbfe73b",
   "metadata": {},
   "outputs": [],
   "source": []
  }
 ],
 "metadata": {
  "kernelspec": {
   "display_name": "Python 3 (ipykernel)",
   "language": "python",
   "name": "python3"
  },
  "language_info": {
   "codemirror_mode": {
    "name": "ipython",
    "version": 3
   },
   "file_extension": ".py",
   "mimetype": "text/x-python",
   "name": "python",
   "nbconvert_exporter": "python",
   "pygments_lexer": "ipython3",
   "version": "3.10.12"
  }
 },
 "nbformat": 4,
 "nbformat_minor": 5
}
