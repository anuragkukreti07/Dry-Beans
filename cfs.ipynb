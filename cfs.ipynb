{
 "cells": [
  {
   "cell_type": "code",
   "execution_count": 1,
   "id": "413f9ea1-faaf-4c95-b0ee-4f35a9e90b8f",
   "metadata": {},
   "outputs": [
    {
     "name": "stdout",
     "output_type": "stream",
     "text": [
      "Feature Correlation:\n",
      "Area              -0.022712\n",
      "Perimeter         -0.021334\n",
      "MajorAxisLength   -0.022737\n",
      "MinorAxisLength   -0.018237\n",
      "AspectRation      -0.013314\n",
      "Eccentricity      -0.008701\n",
      "ConvexArea        -0.022794\n",
      "EquivDiameter     -0.021491\n",
      "Extent             0.001681\n",
      "Solidity           0.005132\n",
      "roundness          0.010317\n",
      "Compactness        0.012021\n",
      "ShapeFactor1       0.013113\n",
      "ShapeFactor2       0.016463\n",
      "ShapeFactor3       0.011477\n",
      "ShapeFactor4       0.010105\n",
      "dtype: float64\n",
      "Sorted Features:\n",
      "Index(['ConvexArea', 'MajorAxisLength', 'Area', 'EquivDiameter', 'Perimeter',\n",
      "       'MinorAxisLength', 'ShapeFactor2', 'AspectRation', 'ShapeFactor1',\n",
      "       'Compactness', 'ShapeFactor3', 'roundness', 'ShapeFactor4',\n",
      "       'Eccentricity', 'Solidity', 'Extent'],\n",
      "      dtype='object')\n"
     ]
    }
   ],
   "source": [
    "import pandas as pd\n",
    "from sklearn.model_selection import train_test_split\n",
    "\n",
    "data = pd.read_excel('Dry_Bean_Dataset.xlsx')\n",
    "\n",
    "X = data.drop('Class', axis=1)\n",
    "y = data['Class']\n",
    "\n",
    "y = pd.factorize(y)[0]\n",
    "\n",
    "X_train, X_test, y_train, y_test = train_test_split(X, y, test_size=0.2, random_state=42)\n",
    "\n",
    "feature_correlation = X_train.corrwith(pd.Series(y_train))\n",
    "\n",
    "\n",
    "print('Feature Correlation:')\n",
    "print(feature_correlation)\n",
    "\n",
    "sorted_features = feature_correlation.abs().sort_values(ascending=False).index\n",
    "print('Sorted Features:')\n",
    "print(sorted_features)\n"
   ]
  },
  {
   "cell_type": "code",
   "execution_count": null,
   "id": "202fe565-c21d-4d86-8ed2-965754264fb2",
   "metadata": {},
   "outputs": [],
   "source": [
    "igae"
   ]
  },
  {
   "cell_type": "code",
   "execution_count": 2,
   "id": "e843ca1a-6aae-438e-a18c-24e0a05baac7",
   "metadata": {},
   "outputs": [
    {
     "name": "stdout",
     "output_type": "stream",
     "text": [
      "Selected Features using Info Gain:\n",
      "Index(['Area', 'Perimeter', 'MajorAxisLength', 'MinorAxisLength',\n",
      "       'AspectRation', 'Eccentricity', 'ConvexArea', 'EquivDiameter', 'Extent',\n",
      "       'Solidity', 'roundness', 'Compactness', 'ShapeFactor1', 'ShapeFactor2',\n",
      "       'ShapeFactor3', 'ShapeFactor4'],\n",
      "      dtype='object')\n"
     ]
    }
   ],
   "source": [
    "import pandas as pd\n",
    "from sklearn.model_selection import train_test_split\n",
    "from sklearn.feature_selection import SelectKBest, mutual_info_classif\n",
    "\n",
    "data = pd.read_excel('Dry_Bean_Dataset.xlsx')\n",
    "\n",
    "X = data.drop('Class', axis=1)\n",
    "y = data['Class']\n",
    "\n",
    "y = pd.factorize(y)[0]\n",
    "\n",
    "X_train, X_test, y_train, y_test = train_test_split(X, y, test_size=0.2, random_state=42)\n",
    "\n",
    "selector = SelectKBest(score_func=mutual_info_classif, k='all')\n",
    "selector.fit(X_train, y_train)\n",
    "\n",
    "selected_features = X.columns[selector.get_support()]\n",
    "\n",
    "print('Selected Features using Info Gain:')\n",
    "print(selected_features)\n"
   ]
  },
  {
   "cell_type": "code",
   "execution_count": null,
   "id": "51a0d9e1-ab9a-48a0-a299-91018d891f22",
   "metadata": {},
   "outputs": [],
   "source": [
    "grae"
   ]
  },
  {
   "cell_type": "code",
   "execution_count": 3,
   "id": "24994f8f-ef71-4d00-8e01-9e0187ca79e9",
   "metadata": {},
   "outputs": [
    {
     "name": "stdout",
     "output_type": "stream",
     "text": [
      "Selected Features using Gain Ratio:\n",
      "Index(['Area', 'Perimeter', 'MajorAxisLength', 'MinorAxisLength',\n",
      "       'AspectRation', 'Eccentricity', 'ConvexArea', 'EquivDiameter', 'Extent',\n",
      "       'Solidity', 'roundness', 'Compactness', 'ShapeFactor1', 'ShapeFactor2',\n",
      "       'ShapeFactor3', 'ShapeFactor4'],\n",
      "      dtype='object')\n"
     ]
    }
   ],
   "source": [
    "import pandas as pd\n",
    "from sklearn.model_selection import train_test_split\n",
    "from sklearn.feature_selection import SelectKBest, mutual_info_classif\n",
    "\n",
    "data = pd.read_excel('Dry_Bean_Dataset.xlsx')\n",
    "\n",
    "X = data.drop('Class', axis=1)\n",
    "y = data['Class']\n",
    "\n",
    "y = pd.factorize(y)[0]\n",
    "\n",
    "X_train, X_test, y_train, y_test = train_test_split(X, y, test_size=0.2, random_state=42)\n",
    "\n",
    "selector = SelectKBest(score_func=mutual_info_classif, k='all')\n",
    "selector.fit(X_train, y_train)\n",
    "\n",
    "selected_features = X.columns[selector.get_support()]\n",
    "\n",
    "print('Selected Features using Gain Ratio:')\n",
    "print(selected_features)\n"
   ]
  },
  {
   "cell_type": "code",
   "execution_count": null,
   "id": "36becdc6-7867-4636-b710-914886c14fc8",
   "metadata": {},
   "outputs": [],
   "source": [
    "rfae"
   ]
  },
  {
   "cell_type": "code",
   "execution_count": 6,
   "id": "45ab9cf0-88ee-4a7e-aba3-789425207376",
   "metadata": {},
   "outputs": [
    {
     "name": "stdout",
     "output_type": "stream",
     "text": [
      "Selected Features using Relief F:\n",
      "Index(['ShapeFactor1', 'EquivDiameter', 'MinorAxisLength', 'Perimeter',\n",
      "       'MajorAxisLength', 'ShapeFactor2', 'Area', 'ConvexArea', 'Compactness',\n",
      "       'AspectRation', 'ShapeFactor3', 'Extent', 'Eccentricity', 'roundness',\n",
      "       'ShapeFactor4', 'Solidity'],\n",
      "      dtype='object')\n"
     ]
    }
   ],
   "source": [
    "import pandas as pd\n",
    "from sklearn.model_selection import train_test_split\n",
    "from skrebate import ReliefF\n",
    "\n",
    "data = pd.read_excel('Dry_Bean_Dataset.xlsx')\n",
    "\n",
    "X = data.drop('Class', axis=1)\n",
    "y = data['Class']\n",
    "\n",
    "y = pd.factorize(y)[0]\n",
    "\n",
    "X_train, X_test, y_train, y_test = train_test_split(X, y, test_size=0.2, random_state=42)\n",
    "\n",
    "relief = ReliefF(n_neighbors=20)\n",
    "relief.fit(X_train.values, y_train)\n",
    "\n",
    "selected_features = X.columns[relief.top_features_]\n",
    "\n",
    "print('Selected Features using Relief F:')\n",
    "print(selected_features)\n"
   ]
  },
  {
   "cell_type": "code",
   "execution_count": 5,
   "id": "4ef8fc0d-1b89-454e-a832-dd6148f9ffb0",
   "metadata": {},
   "outputs": [
    {
     "name": "stdout",
     "output_type": "stream",
     "text": [
      "\u001b[33mWARNING: The directory '/home/anurag/.cache/pip' or its parent directory is not owned or is not writable by the current user. The cache has been disabled. Check the permissions and owner of that directory. If executing pip with sudo, you should use sudo's -H flag.\u001b[0m\u001b[33m\n",
      "\u001b[0mCollecting skrebate\n",
      "  Downloading skrebate-0.62.tar.gz (19 kB)\n",
      "  Preparing metadata (setup.py) ... \u001b[?25ldone\n",
      "\u001b[?25hRequirement already satisfied: numpy in /usr/local/lib/python3.10/dist-packages (from skrebate) (1.26.1)\n",
      "Requirement already satisfied: scikit-learn in /usr/local/lib/python3.10/dist-packages (from skrebate) (1.3.2)\n",
      "Requirement already satisfied: scipy in /usr/local/lib/python3.10/dist-packages (from skrebate) (1.11.3)\n",
      "Requirement already satisfied: threadpoolctl>=2.0.0 in /usr/local/lib/python3.10/dist-packages (from scikit-learn->skrebate) (3.2.0)\n",
      "Requirement already satisfied: joblib>=1.1.1 in /usr/local/lib/python3.10/dist-packages (from scikit-learn->skrebate) (1.3.2)\n",
      "Building wheels for collected packages: skrebate\n",
      "  Building wheel for skrebate (setup.py) ... \u001b[?25ldone\n",
      "\u001b[?25h  Created wheel for skrebate: filename=skrebate-0.62-py3-none-any.whl size=29273 sha256=4c391cb0a52dde13ff1c5d96b37fdf70055c50875fa23750225d6ea64b51aa9e\n",
      "  Stored in directory: /tmp/pip-ephem-wheel-cache-89eju4wk/wheels/dd/67/40/683074a684607162bd0e34dcf7ccdfcab5861c3b2a83286f3a\n",
      "Successfully built skrebate\n",
      "Installing collected packages: skrebate\n",
      "Successfully installed skrebate-0.62\n",
      "\u001b[33mWARNING: Running pip as the 'root' user can result in broken permissions and conflicting behaviour with the system package manager. It is recommended to use a virtual environment instead: https://pip.pypa.io/warnings/venv\u001b[0m\u001b[33m\n",
      "\u001b[0mNote: you may need to restart the kernel to use updated packages.\n"
     ]
    }
   ],
   "source": [
    "pip install skrebate"
   ]
  },
  {
   "cell_type": "code",
   "execution_count": null,
   "id": "b9a5ca1f-14b1-4035-badb-b6ff72fa9f30",
   "metadata": {},
   "outputs": [],
   "source": []
  }
 ],
 "metadata": {
  "kernelspec": {
   "display_name": "Python 3 (ipykernel)",
   "language": "python",
   "name": "python3"
  },
  "language_info": {
   "codemirror_mode": {
    "name": "ipython",
    "version": 3
   },
   "file_extension": ".py",
   "mimetype": "text/x-python",
   "name": "python",
   "nbconvert_exporter": "python",
   "pygments_lexer": "ipython3",
   "version": "3.10.12"
  }
 },
 "nbformat": 4,
 "nbformat_minor": 5
}
