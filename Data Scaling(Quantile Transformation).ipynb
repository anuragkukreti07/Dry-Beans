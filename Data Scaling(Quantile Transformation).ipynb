{
 "cells": [
  {
   "cell_type": "code",
   "execution_count": 5,
   "id": "193c30ac-4401-4a88-880d-738d6c2165c7",
   "metadata": {},
   "outputs": [],
   "source": [
    "import pandas as pd"
   ]
  },
  {
   "cell_type": "code",
   "execution_count": 6,
   "id": "4f1238a8-a9f7-4f79-93e4-bc603f020db7",
   "metadata": {},
   "outputs": [],
   "source": [
    "df = pd.read_excel('Dry_Bean_Dataset.xlsx')"
   ]
  },
  {
   "cell_type": "code",
   "execution_count": 9,
   "id": "445f69c1-c420-4661-b499-7101d899f63b",
   "metadata": {},
   "outputs": [
    {
     "name": "stdout",
     "output_type": "stream",
     "text": [
      "       Area  Perimeter  MajorAxisLength  MinorAxisLength  AspectRation  \\\n",
      "0  0.062066   0.039793         0.008236         0.224710      0.041476   \n",
      "1  0.066640   0.081957         0.002818         0.333234      0.001947   \n",
      "2  0.077769   0.058777         0.013391         0.247267      0.050859   \n",
      "3  0.089507   0.097187         0.010455         0.329870      0.014759   \n",
      "4  0.092674   0.053806         0.003304         0.456686      0.000704   \n",
      "\n",
      "   Eccentricity  ConvexArea  EquivDiameter    Extent  Solidity  roundness  \\\n",
      "0      0.042138    0.063167       0.063299  0.532260  0.579700   0.942055   \n",
      "1      0.002615    0.071047       0.069167  0.721451  0.218320   0.525831   \n",
      "2      0.051226    0.081219       0.081216  0.661764  0.683918   0.907030   \n",
      "3      0.015454    0.102385       0.093858  0.707335  0.035686   0.649966   \n",
      "4      0.000782    0.095750       0.097106  0.613452  0.857664   0.999218   \n",
      "\n",
      "   Compactness  ShapeFactor1  ShapeFactor2  ShapeFactor3  ShapeFactor4  Class  \n",
      "0     0.957067      0.761091      0.994402      0.955675      0.906488  SEKER  \n",
      "1     0.997002      0.649293      0.999694      0.997527      0.853796  SEKER  \n",
      "2     0.948160      0.735612      0.990071      0.947605      0.961750  SEKER  \n",
      "3     0.981840      0.662843      0.996706      0.980845      0.284275  SEKER  \n",
      "4     0.999178      0.523547      1.000000      0.999220      0.973184  SEKER  \n"
     ]
    }
   ],
   "source": [
    "from sklearn.preprocessing import QuantileTransformer\n",
    "from sklearn.model_selection import train_test_split\n",
    "\n",
    "data = df.drop(columns=['Class'])\n",
    "quantile_transformer = QuantileTransformer(output_distribution='uniform', random_state=42)\n",
    "scaled_data = quantile_transformer.fit_transform(data)\n",
    "\n",
    "scaled_df = pd.DataFrame(scaled_data, columns=data.columns)\n",
    "\n",
    "scaled_df['Class'] = df['Class']\n",
    "\n",
    "print(scaled_df.head())\n"
   ]
  },
  {
   "cell_type": "code",
   "execution_count": null,
   "id": "daefc076-0c98-4c10-8a15-613962446482",
   "metadata": {},
   "outputs": [],
   "source": []
  },
  {
   "cell_type": "code",
   "execution_count": null,
   "id": "d0f3730d-f4dd-4a43-8047-f4ffbd4940ab",
   "metadata": {},
   "outputs": [],
   "source": []
  },
  {
   "cell_type": "code",
   "execution_count": null,
   "id": "161c757e-1cb5-4a35-90d4-a35f700a4889",
   "metadata": {},
   "outputs": [],
   "source": [
    "Random Forest"
   ]
  },
  {
   "cell_type": "code",
   "execution_count": 10,
   "id": "add3de46-dfa6-48ae-8025-e9f6b1416d2d",
   "metadata": {},
   "outputs": [
    {
     "name": "stdout",
     "output_type": "stream",
     "text": [
      "Accuracy: 0.9191889509256538\n",
      "\n",
      "Classification Report:\n",
      "               precision    recall  f1-score   support\n",
      "\n",
      "    BARBUNYA       0.93      0.90      0.91       344\n",
      "      BOMBAY       1.00      1.00      1.00       142\n",
      "        CALI       0.93      0.94      0.93       402\n",
      "    DERMASON       0.89      0.92      0.91       851\n",
      "       HOROZ       0.97      0.96      0.96       486\n",
      "       SEKER       0.94      0.94      0.94       513\n",
      "        SIRA       0.87      0.86      0.86       665\n",
      "\n",
      "    accuracy                           0.92      3403\n",
      "   macro avg       0.93      0.93      0.93      3403\n",
      "weighted avg       0.92      0.92      0.92      3403\n",
      "\n"
     ]
    }
   ],
   "source": [
    "from sklearn.model_selection import train_test_split\n",
    "from sklearn.ensemble import RandomForestClassifier\n",
    "from sklearn.metrics import accuracy_score, classification_report\n",
    "\n",
    "target_variable = 'Class'\n",
    "X = scaled_df.drop(target_variable, axis=1)\n",
    "y = scaled_df[target_variable]\n",
    "X_train, X_test, y_train, y_test = train_test_split(X, y, test_size=0.25, random_state=42)\n",
    "clf = RandomForestClassifier(n_estimators=80, random_state=42)\n",
    "clf.fit(X_train, y_train)\n",
    "predictions = clf.predict(X_test)\n",
    "accuracy = accuracy_score(y_test, predictions)\n",
    "report = classification_report(y_test, predictions)\n",
    "print(f\"Accuracy: {accuracy}\")\n",
    "print(\"\\nClassification Report:\\n\", report)\n"
   ]
  },
  {
   "cell_type": "code",
   "execution_count": null,
   "id": "ebd5ad8e-56c8-4892-956d-20aad0cf2456",
   "metadata": {},
   "outputs": [],
   "source": []
  },
  {
   "cell_type": "code",
   "execution_count": null,
   "id": "18fa3d36-4b1f-4a83-811b-e78b8f44ca30",
   "metadata": {},
   "outputs": [],
   "source": []
  },
  {
   "cell_type": "code",
   "execution_count": null,
   "id": "2b8a158f-1d52-4dd3-a87d-09ab44875f7d",
   "metadata": {},
   "outputs": [],
   "source": [
    "Adaptive Boosting"
   ]
  },
  {
   "cell_type": "code",
   "execution_count": 11,
   "id": "998393a2-087b-4129-8b44-4474355dc57b",
   "metadata": {},
   "outputs": [
    {
     "name": "stdout",
     "output_type": "stream",
     "text": [
      "AdaBoost Results:\n",
      "Accuracy: 0.633492471538744\n",
      "\n",
      "Classification Report:\n",
      "               precision    recall  f1-score   support\n",
      "\n",
      "    BARBUNYA       0.00      0.00      0.00       261\n",
      "      BOMBAY       0.00      0.00      0.00       117\n",
      "        CALI       0.48      0.99      0.64       317\n",
      "    DERMASON       0.62      0.94      0.74       671\n",
      "       HOROZ       0.94      0.71      0.81       408\n",
      "       SEKER       0.96      0.20      0.33       413\n",
      "        SIRA       0.76      0.76      0.76       536\n",
      "\n",
      "    accuracy                           0.63      2723\n",
      "   macro avg       0.54      0.51      0.47      2723\n",
      "weighted avg       0.65      0.63      0.58      2723\n",
      "\n"
     ]
    },
    {
     "name": "stderr",
     "output_type": "stream",
     "text": [
      "/usr/local/lib/python3.10/dist-packages/sklearn/metrics/_classification.py:1471: UndefinedMetricWarning: Precision and F-score are ill-defined and being set to 0.0 in labels with no predicted samples. Use `zero_division` parameter to control this behavior.\n",
      "  _warn_prf(average, modifier, msg_start, len(result))\n",
      "/usr/local/lib/python3.10/dist-packages/sklearn/metrics/_classification.py:1471: UndefinedMetricWarning: Precision and F-score are ill-defined and being set to 0.0 in labels with no predicted samples. Use `zero_division` parameter to control this behavior.\n",
      "  _warn_prf(average, modifier, msg_start, len(result))\n",
      "/usr/local/lib/python3.10/dist-packages/sklearn/metrics/_classification.py:1471: UndefinedMetricWarning: Precision and F-score are ill-defined and being set to 0.0 in labels with no predicted samples. Use `zero_division` parameter to control this behavior.\n",
      "  _warn_prf(average, modifier, msg_start, len(result))\n"
     ]
    }
   ],
   "source": [
    "import pandas as pd\n",
    "from sklearn.model_selection import train_test_split\n",
    "from sklearn.ensemble import AdaBoostClassifier\n",
    "from sklearn.metrics import accuracy_score, classification_report\n",
    "\n",
    "target_variable = 'Class'\n",
    "\n",
    "\n",
    "X = scaled_df.drop(target_variable, axis=1)\n",
    "y = scaled_df[target_variable]\n",
    "X_train, X_test, y_train, y_test = train_test_split(X, y, test_size=0.2, random_state=42)\n",
    "\n",
    "clf_adaboost = AdaBoostClassifier(n_estimators=50, random_state=42)\n",
    "\n",
    "clf_adaboost.fit(X_train, y_train)\n",
    "\n",
    "predictions_adaboost = clf_adaboost.predict(X_test)\n",
    "\n",
    "accuracy_adaboost = accuracy_score(y_test, predictions_adaboost)\n",
    "report_adaboost = classification_report(y_test, predictions_adaboost)\n",
    "\n",
    "print(\"AdaBoost Results:\")\n",
    "print(f\"Accuracy: {accuracy_adaboost}\")\n",
    "print(\"\\nClassification Report:\\n\", report_adaboost)\n"
   ]
  },
  {
   "cell_type": "code",
   "execution_count": null,
   "id": "f8681adf-4a7e-40ad-9ac2-3288cc85dadc",
   "metadata": {},
   "outputs": [],
   "source": []
  },
  {
   "cell_type": "code",
   "execution_count": null,
   "id": "554f5aa9-9b04-4739-b838-5b8846ea8c75",
   "metadata": {},
   "outputs": [],
   "source": []
  },
  {
   "cell_type": "code",
   "execution_count": null,
   "id": "186c831e-7117-45f5-b960-203d171b2808",
   "metadata": {},
   "outputs": [],
   "source": []
  },
  {
   "cell_type": "code",
   "execution_count": null,
   "id": "d200c0a2-353a-4dc7-a5ce-18959da31399",
   "metadata": {},
   "outputs": [],
   "source": [
    "Gradient boosting"
   ]
  },
  {
   "cell_type": "code",
   "execution_count": 12,
   "id": "206d7e0c-5849-4f77-b1b7-3495a664126f",
   "metadata": {},
   "outputs": [
    {
     "name": "stdout",
     "output_type": "stream",
     "text": [
      "\n",
      "Gradient Boosting Results:\n",
      "Accuracy: 0.9243481454278369\n",
      "\n",
      "Classification Report:\n",
      "               precision    recall  f1-score   support\n",
      "\n",
      "    BARBUNYA       0.92      0.90      0.91       261\n",
      "      BOMBAY       1.00      1.00      1.00       117\n",
      "        CALI       0.92      0.95      0.94       317\n",
      "    DERMASON       0.90      0.92      0.91       671\n",
      "       HOROZ       0.98      0.95      0.96       408\n",
      "       SEKER       0.98      0.93      0.96       413\n",
      "        SIRA       0.87      0.88      0.87       536\n",
      "\n",
      "    accuracy                           0.92      2723\n",
      "   macro avg       0.94      0.93      0.94      2723\n",
      "weighted avg       0.93      0.92      0.92      2723\n",
      "\n"
     ]
    }
   ],
   "source": [
    "from sklearn.ensemble import GradientBoostingClassifier\n",
    "\n",
    "clf_gradient_boosting = GradientBoostingClassifier(n_estimators=100, random_state=42)\n",
    "\n",
    "clf_gradient_boosting.fit(X_train, y_train)\n",
    "\n",
    "predictions_gradient_boosting = clf_gradient_boosting.predict(X_test)\n",
    "\n",
    "accuracy_gradient_boosting = accuracy_score(y_test, predictions_gradient_boosting)\n",
    "report_gradient_boosting = classification_report(y_test, predictions_gradient_boosting)\n",
    "\n",
    "print(\"\\nGradient Boosting Results:\")\n",
    "print(f\"Accuracy: {accuracy_gradient_boosting}\")\n",
    "print(\"\\nClassification Report:\\n\", report_gradient_boosting)\n"
   ]
  },
  {
   "cell_type": "code",
   "execution_count": null,
   "id": "56c54edd-6a39-4e5d-aa3a-d52a87fa0567",
   "metadata": {},
   "outputs": [],
   "source": []
  },
  {
   "cell_type": "code",
   "execution_count": null,
   "id": "f43d0395-6ae3-4d75-b295-e36c440143a2",
   "metadata": {},
   "outputs": [],
   "source": []
  },
  {
   "cell_type": "code",
   "execution_count": null,
   "id": "5e45bd56-4e85-46e6-ba15-5b7d9ff68d1b",
   "metadata": {},
   "outputs": [],
   "source": [
    "XG Boost"
   ]
  },
  {
   "cell_type": "code",
   "execution_count": 13,
   "id": "8e7d454b-8f47-42c8-8ffc-a758505e1064",
   "metadata": {},
   "outputs": [
    {
     "name": "stdout",
     "output_type": "stream",
     "text": [
      "\n",
      "XGBoost Results:\n",
      "Accuracy: 0.9247153874403232\n",
      "\n",
      "Classification Report:\n",
      "               precision    recall  f1-score   support\n",
      "\n",
      "           0       0.93      0.91      0.92       261\n",
      "           1       1.00      1.00      1.00       117\n",
      "           2       0.94      0.95      0.95       317\n",
      "           3       0.90      0.91      0.90       671\n",
      "           4       0.98      0.96      0.97       408\n",
      "           5       0.97      0.94      0.95       413\n",
      "           6       0.86      0.88      0.87       536\n",
      "\n",
      "    accuracy                           0.92      2723\n",
      "   macro avg       0.94      0.94      0.94      2723\n",
      "weighted avg       0.93      0.92      0.92      2723\n",
      "\n"
     ]
    }
   ],
   "source": [
    "import pandas as pd\n",
    "from sklearn.model_selection import train_test_split\n",
    "from sklearn.preprocessing import LabelEncoder\n",
    "import xgboost as xgb\n",
    "from sklearn.metrics import accuracy_score, classification_report\n",
    "\n",
    "target_variable = 'Class'\n",
    "\n",
    "X = scaled_df.drop(target_variable, axis=1)  \n",
    "\n",
    "label_encoder = LabelEncoder()\n",
    "y_encoded = label_encoder.fit_transform(y)\n",
    "\n",
    "X_train, X_test, y_train, y_test = train_test_split(X, y_encoded, test_size=0.2, random_state=42)\n",
    "\n",
    "clf_xgboost = xgb.XGBClassifier(n_estimators=100, random_state=42)\n",
    "\n",
    "clf_xgboost.fit(X_train, y_train)\n",
    "\n",
    "predictions_xgboost = clf_xgboost.predict(X_test)\n",
    "predictions_original_labels = label_encoder.inverse_transform(predictions_xgboost)\n",
    "\n",
    "accuracy_xgboost = accuracy_score(y_test, predictions_xgboost)\n",
    "report_xgboost = classification_report(y_test, predictions_xgboost)\n",
    "\n",
    "print(\"\\nXGBoost Results:\")\n",
    "print(f\"Accuracy: {accuracy_xgboost}\")\n",
    "print(\"\\nClassification Report:\\n\", report_xgboost)\n"
   ]
  },
  {
   "cell_type": "code",
   "execution_count": null,
   "id": "da1032bc-00ef-40bc-9a1f-e4c43334793d",
   "metadata": {},
   "outputs": [],
   "source": []
  },
  {
   "cell_type": "code",
   "execution_count": null,
   "id": "9e40203f-9002-4aef-a2db-1ef44ecb54e5",
   "metadata": {},
   "outputs": [],
   "source": []
  },
  {
   "cell_type": "code",
   "execution_count": null,
   "id": "917774db-3fc7-439f-a633-6900dc22f979",
   "metadata": {},
   "outputs": [],
   "source": []
  },
  {
   "cell_type": "code",
   "execution_count": null,
   "id": "f3ca836c-af12-4c83-96cd-56c07ec37dac",
   "metadata": {},
   "outputs": [],
   "source": []
  },
  {
   "cell_type": "code",
   "execution_count": 10,
   "id": "63892480-9be8-4a3f-8647-a7fc140a9dea",
   "metadata": {},
   "outputs": [
    {
     "name": "stdout",
     "output_type": "stream",
     "text": [
      "Stacked Model Accuracy: 0.8710980536173338\n"
     ]
    }
   ],
   "source": [
    "from sklearn.ensemble import RandomForestClassifier\n",
    "from sklearn.svm import SVC\n",
    "from sklearn.tree import DecisionTreeClassifier\n",
    "from sklearn.linear_model import LogisticRegression\n",
    "from sklearn.metrics import accuracy_score\n",
    "from sklearn.model_selection import train_test_split\n",
    "from sklearn.preprocessing import LabelEncoder\n",
    "import numpy as np\n",
    "\n",
    "X = scaled_df.drop(columns=['Class'])\n",
    "y = scaled_df['Class']\n",
    "\n",
    "X_train, X_test, y_train, y_test = train_test_split(X, y, test_size=0.2, random_state=42)\n",
    "\n",
    "label_encoder = LabelEncoder()\n",
    "y_train_encoded = label_encoder.fit_transform(y_train)\n",
    "y_test_encoded = label_encoder.transform(y_test)\n",
    "\n",
    "rf = RandomForestClassifier()\n",
    "svm = SVC()\n",
    "dt = DecisionTreeClassifier()\n",
    "\n",
    "rf.fit(X_train, y_train_encoded)\n",
    "svm.fit(X_train, y_train_encoded)\n",
    "dt.fit(X_train, y_train_encoded)\n",
    "\n",
    "rf_pred = rf.predict(X_test)\n",
    "svm_pred = svm.predict(X_test)\n",
    "dt_pred = dt.predict(X_test)\n",
    "\n",
    "stacked_X_train = np.column_stack((rf_pred, svm_pred, dt_pred))\n",
    "\n",
    "lr = LogisticRegression(max_iter=1000)  \n",
    "lr.fit(stacked_X_train, y_test_encoded)\n",
    "\n",
    "stacked_X_test = np.column_stack((rf.predict(X_test), svm.predict(X_test), dt.predict(X_test)))\n",
    "stacked_pred = lr.predict(stacked_X_test)\n",
    "\n",
    "predicted_classes = label_encoder.inverse_transform(stacked_pred)\n",
    "\n",
    "accuracy = accuracy_score(y_test, predicted_classes)\n",
    "print(\"Stacked Model Accuracy:\", accuracy)\n"
   ]
  },
  {
   "cell_type": "code",
   "execution_count": null,
   "id": "5c8633f9-9ee6-47c7-b531-7327bc345274",
   "metadata": {},
   "outputs": [],
   "source": []
  }
 ],
 "metadata": {
  "kernelspec": {
   "display_name": "Python 3 (ipykernel)",
   "language": "python",
   "name": "python3"
  },
  "language_info": {
   "codemirror_mode": {
    "name": "ipython",
    "version": 3
   },
   "file_extension": ".py",
   "mimetype": "text/x-python",
   "name": "python",
   "nbconvert_exporter": "python",
   "pygments_lexer": "ipython3",
   "version": "3.10.12"
  }
 },
 "nbformat": 4,
 "nbformat_minor": 5
}
