{
 "cells": [
  {
   "cell_type": "code",
   "execution_count": 1,
   "id": "2c54fcf5-ce53-40f4-9a6d-da686f463241",
   "metadata": {},
   "outputs": [
    {
     "name": "stdout",
     "output_type": "stream",
     "text": [
      "\u001b[33mWARNING: The directory '/home/anurag/.cache/pip' or its parent directory is not owned or is not writable by the current user. The cache has been disabled. Check the permissions and owner of that directory. If executing pip with sudo, you should use sudo's -H flag.\u001b[0m\u001b[33m\n",
      "\u001b[0mCollecting imbalanced-learn\n",
      "  Downloading imbalanced_learn-0.12.0-py3-none-any.whl (257 kB)\n",
      "\u001b[2K     \u001b[38;2;114;156;31m━━━━━━━━━━━━━━━━━━━━━━━━━━━━━━━━━━━━━━━\u001b[0m \u001b[32m257.7/257.7 KB\u001b[0m \u001b[31m2.5 MB/s\u001b[0m eta \u001b[36m0:00:00\u001b[0m MB/s\u001b[0m eta \u001b[36m0:00:01\u001b[0m:01\u001b[0m\n",
      "\u001b[?25hRequirement already satisfied: numpy>=1.17.3 in /usr/local/lib/python3.10/dist-packages (from imbalanced-learn) (1.26.1)\n",
      "Requirement already satisfied: threadpoolctl>=2.0.0 in /usr/local/lib/python3.10/dist-packages (from imbalanced-learn) (3.2.0)\n",
      "Requirement already satisfied: joblib>=1.1.1 in /usr/local/lib/python3.10/dist-packages (from imbalanced-learn) (1.3.2)\n",
      "Requirement already satisfied: scikit-learn>=1.0.2 in /usr/local/lib/python3.10/dist-packages (from imbalanced-learn) (1.3.2)\n",
      "Requirement already satisfied: scipy>=1.5.0 in /usr/local/lib/python3.10/dist-packages (from imbalanced-learn) (1.11.3)\n",
      "Installing collected packages: imbalanced-learn\n",
      "Successfully installed imbalanced-learn-0.12.0\n",
      "\u001b[33mWARNING: Running pip as the 'root' user can result in broken permissions and conflicting behaviour with the system package manager. It is recommended to use a virtual environment instead: https://pip.pypa.io/warnings/venv\u001b[0m\u001b[33m\n",
      "\u001b[0mNote: you may need to restart the kernel to use updated packages.\n"
     ]
    }
   ],
   "source": [
    "pip install imbalanced-learn"
   ]
  },
  {
   "cell_type": "code",
   "execution_count": 2,
   "id": "48117cb0-cd87-47c6-a048-7bfbacbab8de",
   "metadata": {},
   "outputs": [],
   "source": [
    "import pandas as pd"
   ]
  },
  {
   "cell_type": "code",
   "execution_count": 3,
   "id": "98c7b1c1-cd72-4aad-8834-ee803da250b8",
   "metadata": {},
   "outputs": [],
   "source": [
    "df = pd.read_excel('Dry_Bean_Dataset.xlsx')"
   ]
  },
  {
   "cell_type": "code",
   "execution_count": 4,
   "id": "634dbccf-44a8-4ee1-9575-af8636e585b9",
   "metadata": {},
   "outputs": [],
   "source": [
    "target_variable = 'Class'\n",
    "\n",
    "X = df.drop(target_variable, axis=1)  \n",
    "y = df[target_variable]  "
   ]
  },
  {
   "cell_type": "code",
   "execution_count": 5,
   "id": "b1d56dc0-ce1b-4ed3-b226-830c4c97e5f4",
   "metadata": {},
   "outputs": [],
   "source": [
    "from imblearn.over_sampling import RandomOverSampler, SMOTE\n",
    "from imblearn.under_sampling import RandomUnderSampler\n",
    "from imblearn.combine import SMOTEENN\n",
    "from sklearn.model_selection import train_test_split\n",
    "\n",
    "X_train, X_test, y_train, y_test = train_test_split(X, y, test_size=0.2, random_state=42)\n",
    "\n",
    "ros = RandomOverSampler(sampling_strategy='auto', random_state=42)\n",
    "X_resampled, y_resampled = ros.fit_resample(X_train, y_train)\n",
    "\n",
    "smote = SMOTE(sampling_strategy='auto', random_state=42)\n",
    "X_resampled, y_resampled = smote.fit_resample(X_train, y_train)\n",
    "\n",
    "rus = RandomUnderSampler(sampling_strategy='auto', random_state=42)\n",
    "X_resampled, y_resampled = rus.fit_resample(X_train, y_train)\n",
    "\n",
    "smote_enn = SMOTEENN(sampling_strategy='auto', random_state=42)\n",
    "X_resampled, y_resampled = smote_enn.fit_resample(X_train, y_train)\n"
   ]
  },
  {
   "cell_type": "code",
   "execution_count": 7,
   "id": "63fa6f26-3d21-4cbd-8011-fef8102e4e45",
   "metadata": {},
   "outputs": [
    {
     "data": {
      "text/plain": [
       "(14015, 16)"
      ]
     },
     "execution_count": 7,
     "metadata": {},
     "output_type": "execute_result"
    }
   ],
   "source": [
    "X_resampled.shape"
   ]
  },
  {
   "cell_type": "code",
   "execution_count": null,
   "id": "6dc34e9c-9d6d-41bd-9004-ffabb590ac67",
   "metadata": {},
   "outputs": [],
   "source": [
    "Random Forest"
   ]
  },
  {
   "cell_type": "code",
   "execution_count": 9,
   "id": "31275830-8504-4866-b06b-4920d18c29c5",
   "metadata": {},
   "outputs": [
    {
     "name": "stdout",
     "output_type": "stream",
     "text": [
      "Random Forest Results:\n",
      "Accuracy: 0.9942918301819479\n",
      "\n",
      "Classification Report:\n",
      "               precision    recall  f1-score   support\n",
      "\n",
      "    BARBUNYA       0.99      0.99      0.99       370\n",
      "      BOMBAY       1.00      1.00      1.00       577\n",
      "        CALI       0.99      0.99      0.99       361\n",
      "    DERMASON       0.99      0.99      0.99       396\n",
      "       HOROZ       1.00      1.00      1.00       419\n",
      "       SEKER       0.99      0.99      0.99       370\n",
      "        SIRA       0.99      1.00      0.99       310\n",
      "\n",
      "    accuracy                           0.99      2803\n",
      "   macro avg       0.99      0.99      0.99      2803\n",
      "weighted avg       0.99      0.99      0.99      2803\n",
      "\n"
     ]
    }
   ],
   "source": [
    "from sklearn.ensemble import RandomForestClassifier\n",
    "from sklearn.metrics import accuracy_score, classification_report\n",
    "from sklearn.model_selection import train_test_split\n",
    "\n",
    "X_train, X_test, y_train, y_test = train_test_split(X_resampled, y_resampled, test_size=0.2, random_state=42)\n",
    "\n",
    "clf_random_forest = RandomForestClassifier(n_estimators=100, random_state=42)\n",
    "\n",
    "clf_random_forest.fit(X_train, y_train)\n",
    "\n",
    "predictions_random_forest = clf_random_forest.predict(X_test)\n",
    "\n",
    "accuracy_random_forest = accuracy_score(y_test, predictions_random_forest)\n",
    "report_random_forest = classification_report(y_test, predictions_random_forest)\n",
    "\n",
    "# Print the results\n",
    "print(\"Random Forest Results:\")\n",
    "print(f\"Accuracy: {accuracy_random_forest}\")\n",
    "print(\"\\nClassification Report:\\n\", report_random_forest)\n"
   ]
  },
  {
   "cell_type": "code",
   "execution_count": null,
   "id": "39cff0d2-024b-476b-969f-0cd62f0f1de1",
   "metadata": {},
   "outputs": [],
   "source": []
  },
  {
   "cell_type": "code",
   "execution_count": null,
   "id": "66849da1-3b7a-4789-91c6-b792b537d747",
   "metadata": {},
   "outputs": [],
   "source": [
    "Adaptive boost"
   ]
  },
  {
   "cell_type": "code",
   "execution_count": 11,
   "id": "3f559de1-7ec9-4628-90d3-5b8813468e07",
   "metadata": {},
   "outputs": [
    {
     "name": "stdout",
     "output_type": "stream",
     "text": [
      "AdaBoost Results:\n",
      "Accuracy: 0.7120941848019978\n",
      "\n",
      "Classification Report:\n",
      "               precision    recall  f1-score   support\n",
      "\n",
      "    BARBUNYA       0.36      0.99      0.53       370\n",
      "      BOMBAY       1.00      1.00      1.00       577\n",
      "        CALI       0.00      0.00      0.00       361\n",
      "    DERMASON       0.90      0.95      0.93       396\n",
      "       HOROZ       0.93      0.32      0.48       419\n",
      "       SEKER       0.90      0.71      0.80       370\n",
      "        SIRA       0.76      0.89      0.82       310\n",
      "\n",
      "    accuracy                           0.71      2803\n",
      "   macro avg       0.69      0.70      0.65      2803\n",
      "weighted avg       0.72      0.71      0.67      2803\n",
      "\n"
     ]
    },
    {
     "name": "stderr",
     "output_type": "stream",
     "text": [
      "/usr/local/lib/python3.10/dist-packages/sklearn/metrics/_classification.py:1471: UndefinedMetricWarning: Precision and F-score are ill-defined and being set to 0.0 in labels with no predicted samples. Use `zero_division` parameter to control this behavior.\n",
      "  _warn_prf(average, modifier, msg_start, len(result))\n",
      "/usr/local/lib/python3.10/dist-packages/sklearn/metrics/_classification.py:1471: UndefinedMetricWarning: Precision and F-score are ill-defined and being set to 0.0 in labels with no predicted samples. Use `zero_division` parameter to control this behavior.\n",
      "  _warn_prf(average, modifier, msg_start, len(result))\n",
      "/usr/local/lib/python3.10/dist-packages/sklearn/metrics/_classification.py:1471: UndefinedMetricWarning: Precision and F-score are ill-defined and being set to 0.0 in labels with no predicted samples. Use `zero_division` parameter to control this behavior.\n",
      "  _warn_prf(average, modifier, msg_start, len(result))\n"
     ]
    }
   ],
   "source": [
    "from sklearn.ensemble import AdaBoostClassifier, GradientBoostingClassifier\n",
    "import xgboost as xgb\n",
    "from sklearn.metrics import accuracy_score, classification_report\n",
    "from sklearn.model_selection import train_test_split\n",
    "\n",
    "clf_adaboost = AdaBoostClassifier(n_estimators=50, random_state=42)\n",
    "clf_adaboost.fit(X_train, y_train)\n",
    "predictions_adaboost = clf_adaboost.predict(X_test)\n",
    "accuracy_adaboost = accuracy_score(y_test, predictions_adaboost)\n",
    "report_adaboost = classification_report(y_test, predictions_adaboost)\n",
    "\n",
    "print(\"AdaBoost Results:\")\n",
    "print(f\"Accuracy: {accuracy_adaboost}\")\n",
    "print(\"\\nClassification Report:\\n\", report_adaboost)\n",
    "\n",
    "\n"
   ]
  },
  {
   "cell_type": "code",
   "execution_count": null,
   "id": "2bcf32dc-e69f-47b8-b0dd-97e8a5b02e85",
   "metadata": {},
   "outputs": [],
   "source": []
  },
  {
   "cell_type": "code",
   "execution_count": null,
   "id": "794d2e85-dc75-47c3-b8c3-8d6a86bd05c5",
   "metadata": {},
   "outputs": [],
   "source": []
  },
  {
   "cell_type": "code",
   "execution_count": null,
   "id": "76ac79c1-1fc7-48f3-9c41-dc654e885c7f",
   "metadata": {},
   "outputs": [],
   "source": [
    "Gradient Boost"
   ]
  },
  {
   "cell_type": "code",
   "execution_count": 12,
   "id": "56fb424e-8b2b-4a0a-88fc-eab06e3b6237",
   "metadata": {},
   "outputs": [
    {
     "name": "stdout",
     "output_type": "stream",
     "text": [
      "\n",
      "Gradient Boosting Results:\n",
      "Accuracy: 0.9932215483410631\n",
      "\n",
      "Classification Report:\n",
      "               precision    recall  f1-score   support\n",
      "\n",
      "    BARBUNYA       0.99      0.99      0.99       370\n",
      "      BOMBAY       1.00      1.00      1.00       577\n",
      "        CALI       0.99      0.99      0.99       361\n",
      "    DERMASON       0.99      0.99      0.99       396\n",
      "       HOROZ       0.99      0.99      0.99       419\n",
      "       SEKER       0.99      0.99      0.99       370\n",
      "        SIRA       0.98      0.99      0.99       310\n",
      "\n",
      "    accuracy                           0.99      2803\n",
      "   macro avg       0.99      0.99      0.99      2803\n",
      "weighted avg       0.99      0.99      0.99      2803\n",
      "\n"
     ]
    }
   ],
   "source": [
    "clf_gradient_boosting = GradientBoostingClassifier(n_estimators=100, random_state=42)\n",
    "clf_gradient_boosting.fit(X_train, y_train)\n",
    "predictions_gradient_boosting = clf_gradient_boosting.predict(X_test)\n",
    "accuracy_gradient_boosting = accuracy_score(y_test, predictions_gradient_boosting)\n",
    "report_gradient_boosting = classification_report(y_test, predictions_gradient_boosting)\n",
    "print(\"\\nGradient Boosting Results:\")\n",
    "print(f\"Accuracy: {accuracy_gradient_boosting}\")\n",
    "print(\"\\nClassification Report:\\n\", report_gradient_boosting)\n"
   ]
  },
  {
   "cell_type": "code",
   "execution_count": null,
   "id": "669dd56e-2069-4838-a276-cf7ba528751b",
   "metadata": {},
   "outputs": [],
   "source": []
  },
  {
   "cell_type": "code",
   "execution_count": null,
   "id": "01818593-a918-4117-89ad-e0f293bd72fd",
   "metadata": {},
   "outputs": [],
   "source": [
    "XG Boost"
   ]
  },
  {
   "cell_type": "code",
   "execution_count": 15,
   "id": "9cc3dbd4-653c-40d8-902c-b36aefc5951c",
   "metadata": {},
   "outputs": [
    {
     "name": "stdout",
     "output_type": "stream",
     "text": [
      "\n",
      "XGBoost Results:\n",
      "Accuracy: 0.9946485907955762\n",
      "\n",
      "Classification Report:\n",
      "               precision    recall  f1-score   support\n",
      "\n",
      "           0       0.99      0.99      0.99       370\n",
      "           1       1.00      1.00      1.00       577\n",
      "           2       0.99      0.99      0.99       361\n",
      "           3       0.99      0.99      0.99       396\n",
      "           4       1.00      1.00      1.00       419\n",
      "           5       1.00      1.00      1.00       370\n",
      "           6       0.99      0.99      0.99       310\n",
      "\n",
      "    accuracy                           0.99      2803\n",
      "   macro avg       0.99      0.99      0.99      2803\n",
      "weighted avg       0.99      0.99      0.99      2803\n",
      "\n"
     ]
    }
   ],
   "source": [
    "import pandas as pd\n",
    "from sklearn.model_selection import train_test_split\n",
    "from sklearn.preprocessing import LabelEncoder\n",
    "import xgboost as xgb\n",
    "from sklearn.metrics import accuracy_score, classification_report\n",
    "\n",
    "label_encoder = LabelEncoder()\n",
    "y_train_encoded = label_encoder.fit_transform(y_train)\n",
    "y_test_encoded = label_encoder.transform(y_test)\n",
    "\n",
    "clf_xgboost = xgb.XGBClassifier(n_estimators=100, random_state=42)\n",
    "clf_xgboost.fit(X_train, y_train_encoded)\n",
    "predictions_xgboost = clf_xgboost.predict(X_test)\n",
    "predictions_original_labels = label_encoder.inverse_transform(predictions_xgboost)\n",
    "\n",
    "accuracy_xgboost = accuracy_score(y_test_encoded, predictions_xgboost)\n",
    "report_xgboost = classification_report(y_test_encoded, predictions_xgboost)\n",
    "\n",
    "# Print Results\n",
    "print(\"\\nXGBoost Results:\")\n",
    "print(f\"Accuracy: {accuracy_xgboost}\")\n",
    "print(\"\\nClassification Report:\\n\", report_xgboost)\n"
   ]
  },
  {
   "cell_type": "code",
   "execution_count": null,
   "id": "69c28109-5e1c-413e-a115-45621bde6a13",
   "metadata": {},
   "outputs": [],
   "source": []
  },
  {
   "cell_type": "code",
   "execution_count": null,
   "id": "f75227da-909a-4b6c-8923-a3c8706dc0b6",
   "metadata": {},
   "outputs": [],
   "source": []
  },
  {
   "cell_type": "code",
   "execution_count": null,
   "id": "2d7ba553-504e-4b00-b52f-66b5b7d2ab97",
   "metadata": {},
   "outputs": [],
   "source": []
  },
  {
   "cell_type": "code",
   "execution_count": null,
   "id": "adf179f2-fb59-44d1-a5ff-083bbc707b54",
   "metadata": {},
   "outputs": [],
   "source": []
  },
  {
   "cell_type": "code",
   "execution_count": null,
   "id": "3bc2b7d0-fa78-4162-b113-4289c76aaf10",
   "metadata": {},
   "outputs": [],
   "source": []
  },
  {
   "cell_type": "code",
   "execution_count": null,
   "id": "245bd950-11a3-43c5-8cc6-a2e6a6872c10",
   "metadata": {},
   "outputs": [],
   "source": []
  },
  {
   "cell_type": "code",
   "execution_count": null,
   "id": "ce517b30-ac08-4ce1-bd2b-b08ad6bc8a3e",
   "metadata": {},
   "outputs": [],
   "source": []
  },
  {
   "cell_type": "code",
   "execution_count": null,
   "id": "18437b7b-9308-42b2-8af6-b1ef67ce5fba",
   "metadata": {},
   "outputs": [],
   "source": []
  },
  {
   "cell_type": "code",
   "execution_count": 13,
   "id": "9a0d0647-9f34-4952-a73d-794ec047f18b",
   "metadata": {},
   "outputs": [
    {
     "name": "stderr",
     "output_type": "stream",
     "text": [
      "/usr/local/lib/python3.10/dist-packages/sklearn/linear_model/_logistic.py:460: ConvergenceWarning: lbfgs failed to converge (status=1):\n",
      "STOP: TOTAL NO. of ITERATIONS REACHED LIMIT.\n",
      "\n",
      "Increase the number of iterations (max_iter) or scale the data as shown in:\n",
      "    https://scikit-learn.org/stable/modules/preprocessing.html\n",
      "Please also refer to the documentation for alternative solver options:\n",
      "    https://scikit-learn.org/stable/modules/linear_model.html#logistic-regression\n",
      "  n_iter_i = _check_optimize_result(\n"
     ]
    },
    {
     "name": "stdout",
     "output_type": "stream",
     "text": [
      "Stacking Classifier Accuracy: 0.9129636430407638\n"
     ]
    }
   ],
   "source": [
    "from sklearn.ensemble import RandomForestClassifier\n",
    "from sklearn.svm import SVC\n",
    "from sklearn.tree import DecisionTreeClassifier\n",
    "from sklearn.linear_model import LogisticRegression\n",
    "from sklearn.ensemble import StackingClassifier\n",
    "\n",
    "base_models = [\n",
    "    ('rf', RandomForestClassifier(random_state=42)),\n",
    "    ('svm', SVC(random_state=42)),\n",
    "    ('dt', DecisionTreeClassifier(random_state=42))\n",
    "]\n",
    "\n",
    "meta_model = LogisticRegression()\n",
    "\n",
    "stacking_clf = StackingClassifier(\n",
    "    estimators=base_models, \n",
    "    final_estimator=meta_model,\n",
    "    cv=5,\n",
    "    stack_method='auto',\n",
    "    n_jobs=-1 \n",
    ")\n",
    "\n",
    "stacking_clf.fit(X_resampled, y_resampled)\n",
    "\n",
    "accuracy = stacking_clf.score(X_test, y_test)\n",
    "print(\"Stacking Classifier Accuracy:\", accuracy)\n"
   ]
  },
  {
   "cell_type": "code",
   "execution_count": null,
   "id": "d00aa717-f3fb-46cc-963b-0134f7d990f7",
   "metadata": {},
   "outputs": [],
   "source": []
  }
 ],
 "metadata": {
  "kernelspec": {
   "display_name": "Python 3 (ipykernel)",
   "language": "python",
   "name": "python3"
  },
  "language_info": {
   "codemirror_mode": {
    "name": "ipython",
    "version": 3
   },
   "file_extension": ".py",
   "mimetype": "text/x-python",
   "name": "python",
   "nbconvert_exporter": "python",
   "pygments_lexer": "ipython3",
   "version": "3.10.12"
  }
 },
 "nbformat": 4,
 "nbformat_minor": 5
}
