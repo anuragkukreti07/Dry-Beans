{
 "cells": [
  {
   "cell_type": "code",
   "execution_count": 1,
   "id": "66b0eeab-1809-44c4-ae9e-dc49a31c0b6f",
   "metadata": {},
   "outputs": [
    {
     "ename": "NameError",
     "evalue": "name 'X' is not defined",
     "output_type": "error",
     "traceback": [
      "\u001b[0;31m---------------------------------------------------------------------------\u001b[0m",
      "\u001b[0;31mNameError\u001b[0m                                 Traceback (most recent call last)",
      "Cell \u001b[0;32mIn[1], line 14\u001b[0m\n\u001b[1;32m     11\u001b[0m \u001b[38;5;28;01mfrom\u001b[39;00m \u001b[38;5;21;01mimblearn\u001b[39;00m\u001b[38;5;21;01m.\u001b[39;00m\u001b[38;5;21;01mcombine\u001b[39;00m \u001b[38;5;28;01mimport\u001b[39;00m SMOTEENN\n\u001b[1;32m     13\u001b[0m \u001b[38;5;66;03m# Assuming X contains the features and y contains the target variable\u001b[39;00m\n\u001b[0;32m---> 14\u001b[0m X_train, X_test, y_train, y_test \u001b[38;5;241m=\u001b[39m train_test_split(\u001b[43mX\u001b[49m, y, test_size\u001b[38;5;241m=\u001b[39m\u001b[38;5;241m0.2\u001b[39m, random_state\u001b[38;5;241m=\u001b[39m\u001b[38;5;241m42\u001b[39m)\n\u001b[1;32m     16\u001b[0m \u001b[38;5;66;03m# Define resampling techniques\u001b[39;00m\n\u001b[1;32m     17\u001b[0m ros \u001b[38;5;241m=\u001b[39m RandomOverSampler(sampling_strategy\u001b[38;5;241m=\u001b[39m\u001b[38;5;124m'\u001b[39m\u001b[38;5;124mauto\u001b[39m\u001b[38;5;124m'\u001b[39m, random_state\u001b[38;5;241m=\u001b[39m\u001b[38;5;241m42\u001b[39m)\n",
      "\u001b[0;31mNameError\u001b[0m: name 'X' is not defined"
     ]
    }
   ],
   "source": [
    "from sklearn.ensemble import RandomForestClassifier\n",
    "from sklearn.svm import SVC\n",
    "from sklearn.tree import DecisionTreeClassifier\n",
    "from sklearn.linear_model import LogisticRegression\n",
    "from sklearn.metrics import accuracy_score\n",
    "import numpy as np\n",
    "from sklearn.preprocessing import LabelEncoder\n",
    "from sklearn.model_selection import train_test_split\n",
    "from imblearn.over_sampling import RandomOverSampler, SMOTE\n",
    "from imblearn.under_sampling import RandomUnderSampler\n",
    "from imblearn.combine import SMOTEENN\n",
    "\n",
    "# Assuming X contains the features and y contains the target variable\n",
    "X_train, X_test, y_train, y_test = train_test_split(X, y, test_size=0.2, random_state=42)\n",
    "\n",
    "# Define resampling techniques\n",
    "ros = RandomOverSampler(sampling_strategy='auto', random_state=42)\n",
    "smote = SMOTE(sampling_strategy='auto', random_state=42)\n",
    "rus = RandomUnderSampler(sampling_strategy='auto', random_state=42)\n",
    "smote_enn = SMOTEENN(sampling_strategy='auto', random_state=42)\n",
    "\n",
    "# Apply resampling techniques\n",
    "X_resampled_ros, y_resampled_ros = ros.fit_resample(X_train, y_train)\n",
    "X_resampled_smote, y_resampled_smote = smote.fit_resample(X_train, y_train)\n",
    "X_resampled_rus, y_resampled_rus = rus.fit_resample(X_train, y_train)\n",
    "X_resampled_smote_enn, y_resampled_smote_enn = smote_enn.fit_resample(X_train, y_train)\n",
    "\n",
    "# Define base models\n",
    "rf = RandomForestClassifier()\n",
    "svm = SVC()\n",
    "dt = DecisionTreeClassifier()\n",
    "\n",
    "# Train base models on each resampled dataset\n",
    "rf.fit(X_resampled_ros, y_resampled_ros)\n",
    "svm.fit(X_resampled_smote, y_resampled_smote)\n",
    "dt.fit(X_resampled_rus, y_resampled_rus)\n",
    "\n",
    "# Generate predictions from base models on the test set\n",
    "rf_pred = rf.predict(X_test)\n",
    "svm_pred = svm.predict(X_test)\n",
    "dt_pred = dt.predict(X_test)\n",
    "\n",
    "# Create new feature matrix with predictions from base models\n",
    "stacked_X_test = np.column_stack((rf_pred, svm_pred, dt_pred))\n",
    "\n",
    "# Encode the target variable\n",
    "le = LabelEncoder()\n",
    "y_train_encoded = le.fit_transform(y_train)\n",
    "y_test_encoded = le.transform(y_test)\n",
    "\n",
    "# Train Logistic Regression model on the new feature matrix with encoded target variable\n",
    "lr = LogisticRegression(max_iter=1000)  # Increase max_iter if needed\n",
    "lr.fit(stacked_X_test, y_test_encoded)\n",
    "\n",
    "# Generate final predictions from stacked model\n",
    "stacked_pred = lr.predict(stacked_X_test)\n",
    "\n",
    "# Evaluate performance\n",
    "accuracy = accuracy_score(y_test_encoded, stacked_pred)\n",
    "print(\"Stacked Model Accuracy:\", accuracy)\n"
   ]
  },
  {
   "cell_type": "code",
   "execution_count": null,
   "id": "0170dd2c-3276-4504-9d94-9a66d3907580",
   "metadata": {},
   "outputs": [],
   "source": []
  }
 ],
 "metadata": {
  "kernelspec": {
   "display_name": "Python 3 (ipykernel)",
   "language": "python",
   "name": "python3"
  },
  "language_info": {
   "codemirror_mode": {
    "name": "ipython",
    "version": 3
   },
   "file_extension": ".py",
   "mimetype": "text/x-python",
   "name": "python",
   "nbconvert_exporter": "python",
   "pygments_lexer": "ipython3",
   "version": "3.10.12"
  }
 },
 "nbformat": 4,
 "nbformat_minor": 5
}
