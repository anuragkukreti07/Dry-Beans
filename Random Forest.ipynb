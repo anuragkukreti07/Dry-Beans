{
 "cells": [
  {
   "cell_type": "markdown",
   "id": "1bc3f771-e876-468e-81d2-2aeb94cb4e6e",
   "metadata": {},
   "source": []
  },
  {
   "cell_type": "code",
   "execution_count": 1,
   "id": "f9682bde-71ac-4c62-8edb-5d44f8a2d3b9",
   "metadata": {},
   "outputs": [],
   "source": [
    "import pandas as pd"
   ]
  },
  {
   "cell_type": "code",
   "execution_count": 2,
   "id": "afc008b9-03e5-40d5-adb4-39ffa0d251f7",
   "metadata": {},
   "outputs": [],
   "source": [
    "df = pd.read_excel('Dry_Bean_Dataset.xlsx')"
   ]
  },
  {
   "cell_type": "code",
   "execution_count": 3,
   "id": "cefd2112-66e2-4c1d-a495-425edd150015",
   "metadata": {},
   "outputs": [
    {
     "data": {
      "text/html": [
       "<div>\n",
       "<style scoped>\n",
       "    .dataframe tbody tr th:only-of-type {\n",
       "        vertical-align: middle;\n",
       "    }\n",
       "\n",
       "    .dataframe tbody tr th {\n",
       "        vertical-align: top;\n",
       "    }\n",
       "\n",
       "    .dataframe thead th {\n",
       "        text-align: right;\n",
       "    }\n",
       "</style>\n",
       "<table border=\"1\" class=\"dataframe\">\n",
       "  <thead>\n",
       "    <tr style=\"text-align: right;\">\n",
       "      <th></th>\n",
       "      <th>Area</th>\n",
       "      <th>Perimeter</th>\n",
       "      <th>MajorAxisLength</th>\n",
       "      <th>MinorAxisLength</th>\n",
       "      <th>AspectRation</th>\n",
       "      <th>Eccentricity</th>\n",
       "      <th>ConvexArea</th>\n",
       "      <th>EquivDiameter</th>\n",
       "      <th>Extent</th>\n",
       "      <th>Solidity</th>\n",
       "      <th>roundness</th>\n",
       "      <th>Compactness</th>\n",
       "      <th>ShapeFactor1</th>\n",
       "      <th>ShapeFactor2</th>\n",
       "      <th>ShapeFactor3</th>\n",
       "      <th>ShapeFactor4</th>\n",
       "      <th>Class</th>\n",
       "    </tr>\n",
       "  </thead>\n",
       "  <tbody>\n",
       "    <tr>\n",
       "      <th>0</th>\n",
       "      <td>28395</td>\n",
       "      <td>610.291</td>\n",
       "      <td>208.178117</td>\n",
       "      <td>173.888747</td>\n",
       "      <td>1.197191</td>\n",
       "      <td>0.549812</td>\n",
       "      <td>28715</td>\n",
       "      <td>190.141097</td>\n",
       "      <td>0.763923</td>\n",
       "      <td>0.988856</td>\n",
       "      <td>0.958027</td>\n",
       "      <td>0.913358</td>\n",
       "      <td>0.007332</td>\n",
       "      <td>0.003147</td>\n",
       "      <td>0.834222</td>\n",
       "      <td>0.998724</td>\n",
       "      <td>SEKER</td>\n",
       "    </tr>\n",
       "    <tr>\n",
       "      <th>1</th>\n",
       "      <td>28734</td>\n",
       "      <td>638.018</td>\n",
       "      <td>200.524796</td>\n",
       "      <td>182.734419</td>\n",
       "      <td>1.097356</td>\n",
       "      <td>0.411785</td>\n",
       "      <td>29172</td>\n",
       "      <td>191.272750</td>\n",
       "      <td>0.783968</td>\n",
       "      <td>0.984986</td>\n",
       "      <td>0.887034</td>\n",
       "      <td>0.953861</td>\n",
       "      <td>0.006979</td>\n",
       "      <td>0.003564</td>\n",
       "      <td>0.909851</td>\n",
       "      <td>0.998430</td>\n",
       "      <td>SEKER</td>\n",
       "    </tr>\n",
       "    <tr>\n",
       "      <th>2</th>\n",
       "      <td>29380</td>\n",
       "      <td>624.110</td>\n",
       "      <td>212.826130</td>\n",
       "      <td>175.931143</td>\n",
       "      <td>1.209713</td>\n",
       "      <td>0.562727</td>\n",
       "      <td>29690</td>\n",
       "      <td>193.410904</td>\n",
       "      <td>0.778113</td>\n",
       "      <td>0.989559</td>\n",
       "      <td>0.947849</td>\n",
       "      <td>0.908774</td>\n",
       "      <td>0.007244</td>\n",
       "      <td>0.003048</td>\n",
       "      <td>0.825871</td>\n",
       "      <td>0.999066</td>\n",
       "      <td>SEKER</td>\n",
       "    </tr>\n",
       "    <tr>\n",
       "      <th>3</th>\n",
       "      <td>30008</td>\n",
       "      <td>645.884</td>\n",
       "      <td>210.557999</td>\n",
       "      <td>182.516516</td>\n",
       "      <td>1.153638</td>\n",
       "      <td>0.498616</td>\n",
       "      <td>30724</td>\n",
       "      <td>195.467062</td>\n",
       "      <td>0.782681</td>\n",
       "      <td>0.976696</td>\n",
       "      <td>0.903936</td>\n",
       "      <td>0.928329</td>\n",
       "      <td>0.007017</td>\n",
       "      <td>0.003215</td>\n",
       "      <td>0.861794</td>\n",
       "      <td>0.994199</td>\n",
       "      <td>SEKER</td>\n",
       "    </tr>\n",
       "    <tr>\n",
       "      <th>4</th>\n",
       "      <td>30140</td>\n",
       "      <td>620.134</td>\n",
       "      <td>201.847882</td>\n",
       "      <td>190.279279</td>\n",
       "      <td>1.060798</td>\n",
       "      <td>0.333680</td>\n",
       "      <td>30417</td>\n",
       "      <td>195.896503</td>\n",
       "      <td>0.773098</td>\n",
       "      <td>0.990893</td>\n",
       "      <td>0.984877</td>\n",
       "      <td>0.970516</td>\n",
       "      <td>0.006697</td>\n",
       "      <td>0.003665</td>\n",
       "      <td>0.941900</td>\n",
       "      <td>0.999166</td>\n",
       "      <td>SEKER</td>\n",
       "    </tr>\n",
       "  </tbody>\n",
       "</table>\n",
       "</div>"
      ],
      "text/plain": [
       "    Area  Perimeter  MajorAxisLength  MinorAxisLength  AspectRation  \\\n",
       "0  28395    610.291       208.178117       173.888747      1.197191   \n",
       "1  28734    638.018       200.524796       182.734419      1.097356   \n",
       "2  29380    624.110       212.826130       175.931143      1.209713   \n",
       "3  30008    645.884       210.557999       182.516516      1.153638   \n",
       "4  30140    620.134       201.847882       190.279279      1.060798   \n",
       "\n",
       "   Eccentricity  ConvexArea  EquivDiameter    Extent  Solidity  roundness  \\\n",
       "0      0.549812       28715     190.141097  0.763923  0.988856   0.958027   \n",
       "1      0.411785       29172     191.272750  0.783968  0.984986   0.887034   \n",
       "2      0.562727       29690     193.410904  0.778113  0.989559   0.947849   \n",
       "3      0.498616       30724     195.467062  0.782681  0.976696   0.903936   \n",
       "4      0.333680       30417     195.896503  0.773098  0.990893   0.984877   \n",
       "\n",
       "   Compactness  ShapeFactor1  ShapeFactor2  ShapeFactor3  ShapeFactor4  Class  \n",
       "0     0.913358      0.007332      0.003147      0.834222      0.998724  SEKER  \n",
       "1     0.953861      0.006979      0.003564      0.909851      0.998430  SEKER  \n",
       "2     0.908774      0.007244      0.003048      0.825871      0.999066  SEKER  \n",
       "3     0.928329      0.007017      0.003215      0.861794      0.994199  SEKER  \n",
       "4     0.970516      0.006697      0.003665      0.941900      0.999166  SEKER  "
      ]
     },
     "execution_count": 3,
     "metadata": {},
     "output_type": "execute_result"
    }
   ],
   "source": [
    "df.head()"
   ]
  },
  {
   "cell_type": "code",
   "execution_count": 4,
   "id": "6e5249bc-8adb-4ba3-8b61-a13f97a592af",
   "metadata": {},
   "outputs": [
    {
     "data": {
      "text/html": [
       "<div>\n",
       "<style scoped>\n",
       "    .dataframe tbody tr th:only-of-type {\n",
       "        vertical-align: middle;\n",
       "    }\n",
       "\n",
       "    .dataframe tbody tr th {\n",
       "        vertical-align: top;\n",
       "    }\n",
       "\n",
       "    .dataframe thead th {\n",
       "        text-align: right;\n",
       "    }\n",
       "</style>\n",
       "<table border=\"1\" class=\"dataframe\">\n",
       "  <thead>\n",
       "    <tr style=\"text-align: right;\">\n",
       "      <th></th>\n",
       "      <th>Area</th>\n",
       "      <th>Perimeter</th>\n",
       "      <th>MajorAxisLength</th>\n",
       "      <th>MinorAxisLength</th>\n",
       "      <th>AspectRation</th>\n",
       "      <th>Eccentricity</th>\n",
       "      <th>ConvexArea</th>\n",
       "      <th>EquivDiameter</th>\n",
       "      <th>Extent</th>\n",
       "      <th>Solidity</th>\n",
       "      <th>roundness</th>\n",
       "      <th>Compactness</th>\n",
       "      <th>ShapeFactor1</th>\n",
       "      <th>ShapeFactor2</th>\n",
       "      <th>ShapeFactor3</th>\n",
       "      <th>ShapeFactor4</th>\n",
       "    </tr>\n",
       "  </thead>\n",
       "  <tbody>\n",
       "    <tr>\n",
       "      <th>count</th>\n",
       "      <td>13611.000000</td>\n",
       "      <td>13611.000000</td>\n",
       "      <td>13611.000000</td>\n",
       "      <td>13611.000000</td>\n",
       "      <td>13611.000000</td>\n",
       "      <td>13611.000000</td>\n",
       "      <td>13611.000000</td>\n",
       "      <td>13611.000000</td>\n",
       "      <td>13611.000000</td>\n",
       "      <td>13611.000000</td>\n",
       "      <td>13611.000000</td>\n",
       "      <td>13611.000000</td>\n",
       "      <td>13611.000000</td>\n",
       "      <td>13611.000000</td>\n",
       "      <td>13611.000000</td>\n",
       "      <td>13611.000000</td>\n",
       "    </tr>\n",
       "    <tr>\n",
       "      <th>mean</th>\n",
       "      <td>53048.284549</td>\n",
       "      <td>855.283459</td>\n",
       "      <td>320.141867</td>\n",
       "      <td>202.270714</td>\n",
       "      <td>1.583242</td>\n",
       "      <td>0.750895</td>\n",
       "      <td>53768.200206</td>\n",
       "      <td>253.064220</td>\n",
       "      <td>0.749733</td>\n",
       "      <td>0.987143</td>\n",
       "      <td>0.873282</td>\n",
       "      <td>0.799864</td>\n",
       "      <td>0.006564</td>\n",
       "      <td>0.001716</td>\n",
       "      <td>0.643590</td>\n",
       "      <td>0.995063</td>\n",
       "    </tr>\n",
       "    <tr>\n",
       "      <th>std</th>\n",
       "      <td>29324.095717</td>\n",
       "      <td>214.289696</td>\n",
       "      <td>85.694186</td>\n",
       "      <td>44.970091</td>\n",
       "      <td>0.246678</td>\n",
       "      <td>0.092002</td>\n",
       "      <td>29774.915817</td>\n",
       "      <td>59.177120</td>\n",
       "      <td>0.049086</td>\n",
       "      <td>0.004660</td>\n",
       "      <td>0.059520</td>\n",
       "      <td>0.061713</td>\n",
       "      <td>0.001128</td>\n",
       "      <td>0.000596</td>\n",
       "      <td>0.098996</td>\n",
       "      <td>0.004366</td>\n",
       "    </tr>\n",
       "    <tr>\n",
       "      <th>min</th>\n",
       "      <td>20420.000000</td>\n",
       "      <td>524.736000</td>\n",
       "      <td>183.601165</td>\n",
       "      <td>122.512653</td>\n",
       "      <td>1.024868</td>\n",
       "      <td>0.218951</td>\n",
       "      <td>20684.000000</td>\n",
       "      <td>161.243764</td>\n",
       "      <td>0.555315</td>\n",
       "      <td>0.919246</td>\n",
       "      <td>0.489618</td>\n",
       "      <td>0.640577</td>\n",
       "      <td>0.002778</td>\n",
       "      <td>0.000564</td>\n",
       "      <td>0.410339</td>\n",
       "      <td>0.947687</td>\n",
       "    </tr>\n",
       "    <tr>\n",
       "      <th>25%</th>\n",
       "      <td>36328.000000</td>\n",
       "      <td>703.523500</td>\n",
       "      <td>253.303633</td>\n",
       "      <td>175.848170</td>\n",
       "      <td>1.432307</td>\n",
       "      <td>0.715928</td>\n",
       "      <td>36714.500000</td>\n",
       "      <td>215.068003</td>\n",
       "      <td>0.718634</td>\n",
       "      <td>0.985670</td>\n",
       "      <td>0.832096</td>\n",
       "      <td>0.762469</td>\n",
       "      <td>0.005900</td>\n",
       "      <td>0.001154</td>\n",
       "      <td>0.581359</td>\n",
       "      <td>0.993703</td>\n",
       "    </tr>\n",
       "    <tr>\n",
       "      <th>50%</th>\n",
       "      <td>44652.000000</td>\n",
       "      <td>794.941000</td>\n",
       "      <td>296.883367</td>\n",
       "      <td>192.431733</td>\n",
       "      <td>1.551124</td>\n",
       "      <td>0.764441</td>\n",
       "      <td>45178.000000</td>\n",
       "      <td>238.438026</td>\n",
       "      <td>0.759859</td>\n",
       "      <td>0.988283</td>\n",
       "      <td>0.883157</td>\n",
       "      <td>0.801277</td>\n",
       "      <td>0.006645</td>\n",
       "      <td>0.001694</td>\n",
       "      <td>0.642044</td>\n",
       "      <td>0.996386</td>\n",
       "    </tr>\n",
       "    <tr>\n",
       "      <th>75%</th>\n",
       "      <td>61332.000000</td>\n",
       "      <td>977.213000</td>\n",
       "      <td>376.495012</td>\n",
       "      <td>217.031741</td>\n",
       "      <td>1.707109</td>\n",
       "      <td>0.810466</td>\n",
       "      <td>62294.000000</td>\n",
       "      <td>279.446467</td>\n",
       "      <td>0.786851</td>\n",
       "      <td>0.990013</td>\n",
       "      <td>0.916869</td>\n",
       "      <td>0.834270</td>\n",
       "      <td>0.007271</td>\n",
       "      <td>0.002170</td>\n",
       "      <td>0.696006</td>\n",
       "      <td>0.997883</td>\n",
       "    </tr>\n",
       "    <tr>\n",
       "      <th>max</th>\n",
       "      <td>254616.000000</td>\n",
       "      <td>1985.370000</td>\n",
       "      <td>738.860153</td>\n",
       "      <td>460.198497</td>\n",
       "      <td>2.430306</td>\n",
       "      <td>0.911423</td>\n",
       "      <td>263261.000000</td>\n",
       "      <td>569.374358</td>\n",
       "      <td>0.866195</td>\n",
       "      <td>0.994677</td>\n",
       "      <td>0.990685</td>\n",
       "      <td>0.987303</td>\n",
       "      <td>0.010451</td>\n",
       "      <td>0.003665</td>\n",
       "      <td>0.974767</td>\n",
       "      <td>0.999733</td>\n",
       "    </tr>\n",
       "  </tbody>\n",
       "</table>\n",
       "</div>"
      ],
      "text/plain": [
       "                Area     Perimeter  MajorAxisLength  MinorAxisLength  \\\n",
       "count   13611.000000  13611.000000     13611.000000     13611.000000   \n",
       "mean    53048.284549    855.283459       320.141867       202.270714   \n",
       "std     29324.095717    214.289696        85.694186        44.970091   \n",
       "min     20420.000000    524.736000       183.601165       122.512653   \n",
       "25%     36328.000000    703.523500       253.303633       175.848170   \n",
       "50%     44652.000000    794.941000       296.883367       192.431733   \n",
       "75%     61332.000000    977.213000       376.495012       217.031741   \n",
       "max    254616.000000   1985.370000       738.860153       460.198497   \n",
       "\n",
       "       AspectRation  Eccentricity     ConvexArea  EquivDiameter        Extent  \\\n",
       "count  13611.000000  13611.000000   13611.000000   13611.000000  13611.000000   \n",
       "mean       1.583242      0.750895   53768.200206     253.064220      0.749733   \n",
       "std        0.246678      0.092002   29774.915817      59.177120      0.049086   \n",
       "min        1.024868      0.218951   20684.000000     161.243764      0.555315   \n",
       "25%        1.432307      0.715928   36714.500000     215.068003      0.718634   \n",
       "50%        1.551124      0.764441   45178.000000     238.438026      0.759859   \n",
       "75%        1.707109      0.810466   62294.000000     279.446467      0.786851   \n",
       "max        2.430306      0.911423  263261.000000     569.374358      0.866195   \n",
       "\n",
       "           Solidity     roundness   Compactness  ShapeFactor1  ShapeFactor2  \\\n",
       "count  13611.000000  13611.000000  13611.000000  13611.000000  13611.000000   \n",
       "mean       0.987143      0.873282      0.799864      0.006564      0.001716   \n",
       "std        0.004660      0.059520      0.061713      0.001128      0.000596   \n",
       "min        0.919246      0.489618      0.640577      0.002778      0.000564   \n",
       "25%        0.985670      0.832096      0.762469      0.005900      0.001154   \n",
       "50%        0.988283      0.883157      0.801277      0.006645      0.001694   \n",
       "75%        0.990013      0.916869      0.834270      0.007271      0.002170   \n",
       "max        0.994677      0.990685      0.987303      0.010451      0.003665   \n",
       "\n",
       "       ShapeFactor3  ShapeFactor4  \n",
       "count  13611.000000  13611.000000  \n",
       "mean       0.643590      0.995063  \n",
       "std        0.098996      0.004366  \n",
       "min        0.410339      0.947687  \n",
       "25%        0.581359      0.993703  \n",
       "50%        0.642044      0.996386  \n",
       "75%        0.696006      0.997883  \n",
       "max        0.974767      0.999733  "
      ]
     },
     "execution_count": 4,
     "metadata": {},
     "output_type": "execute_result"
    }
   ],
   "source": [
    "df.describe()"
   ]
  },
  {
   "cell_type": "code",
   "execution_count": 5,
   "id": "5a3aafd6-5ce8-46e0-83cf-96f0b92bc923",
   "metadata": {},
   "outputs": [],
   "source": [
    "from sklearn.model_selection import train_test_split\n",
    "from sklearn.ensemble import RandomForestClassifier\n",
    "from sklearn.metrics import accuracy_score, classification_report"
   ]
  },
  {
   "cell_type": "code",
   "execution_count": 6,
   "id": "27d0bb43-f661-4755-b2c3-45da6963c532",
   "metadata": {},
   "outputs": [],
   "source": [
    "target_variable = 'Class'\n",
    "\n",
    "X = df.drop(target_variable, axis=1)  \n",
    "y = df[target_variable]  "
   ]
  },
  {
   "cell_type": "code",
   "execution_count": 7,
   "id": "89e0ba54-8acb-476f-8285-fd417deebce3",
   "metadata": {},
   "outputs": [
    {
     "data": {
      "text/plain": [
       "0           SEKER\n",
       "1           SEKER\n",
       "2           SEKER\n",
       "3           SEKER\n",
       "4           SEKER\n",
       "           ...   \n",
       "13606    DERMASON\n",
       "13607    DERMASON\n",
       "13608    DERMASON\n",
       "13609    DERMASON\n",
       "13610    DERMASON\n",
       "Name: Class, Length: 13611, dtype: object"
      ]
     },
     "execution_count": 7,
     "metadata": {},
     "output_type": "execute_result"
    }
   ],
   "source": [
    "y"
   ]
  },
  {
   "cell_type": "code",
   "execution_count": 8,
   "id": "337bd5eb-ba79-40ad-8d27-892c7b2e85cb",
   "metadata": {},
   "outputs": [],
   "source": [
    "X_train, X_test, y_train, y_test = train_test_split(X, y, test_size=0.25, random_state=42)"
   ]
  },
  {
   "cell_type": "code",
   "execution_count": 9,
   "id": "e995c4fc-443b-4c0e-b8f3-de2ddbd3bf56",
   "metadata": {},
   "outputs": [],
   "source": [
    "clf = RandomForestClassifier(n_estimators=80, random_state=42)"
   ]
  },
  {
   "cell_type": "code",
   "execution_count": 10,
   "id": "accab633-f8e0-4e0c-9bf0-cd6599d27c26",
   "metadata": {},
   "outputs": [
    {
     "data": {
      "text/html": [
       "<style>#sk-container-id-1 {color: black;}#sk-container-id-1 pre{padding: 0;}#sk-container-id-1 div.sk-toggleable {background-color: white;}#sk-container-id-1 label.sk-toggleable__label {cursor: pointer;display: block;width: 100%;margin-bottom: 0;padding: 0.3em;box-sizing: border-box;text-align: center;}#sk-container-id-1 label.sk-toggleable__label-arrow:before {content: \"▸\";float: left;margin-right: 0.25em;color: #696969;}#sk-container-id-1 label.sk-toggleable__label-arrow:hover:before {color: black;}#sk-container-id-1 div.sk-estimator:hover label.sk-toggleable__label-arrow:before {color: black;}#sk-container-id-1 div.sk-toggleable__content {max-height: 0;max-width: 0;overflow: hidden;text-align: left;background-color: #f0f8ff;}#sk-container-id-1 div.sk-toggleable__content pre {margin: 0.2em;color: black;border-radius: 0.25em;background-color: #f0f8ff;}#sk-container-id-1 input.sk-toggleable__control:checked~div.sk-toggleable__content {max-height: 200px;max-width: 100%;overflow: auto;}#sk-container-id-1 input.sk-toggleable__control:checked~label.sk-toggleable__label-arrow:before {content: \"▾\";}#sk-container-id-1 div.sk-estimator input.sk-toggleable__control:checked~label.sk-toggleable__label {background-color: #d4ebff;}#sk-container-id-1 div.sk-label input.sk-toggleable__control:checked~label.sk-toggleable__label {background-color: #d4ebff;}#sk-container-id-1 input.sk-hidden--visually {border: 0;clip: rect(1px 1px 1px 1px);clip: rect(1px, 1px, 1px, 1px);height: 1px;margin: -1px;overflow: hidden;padding: 0;position: absolute;width: 1px;}#sk-container-id-1 div.sk-estimator {font-family: monospace;background-color: #f0f8ff;border: 1px dotted black;border-radius: 0.25em;box-sizing: border-box;margin-bottom: 0.5em;}#sk-container-id-1 div.sk-estimator:hover {background-color: #d4ebff;}#sk-container-id-1 div.sk-parallel-item::after {content: \"\";width: 100%;border-bottom: 1px solid gray;flex-grow: 1;}#sk-container-id-1 div.sk-label:hover label.sk-toggleable__label {background-color: #d4ebff;}#sk-container-id-1 div.sk-serial::before {content: \"\";position: absolute;border-left: 1px solid gray;box-sizing: border-box;top: 0;bottom: 0;left: 50%;z-index: 0;}#sk-container-id-1 div.sk-serial {display: flex;flex-direction: column;align-items: center;background-color: white;padding-right: 0.2em;padding-left: 0.2em;position: relative;}#sk-container-id-1 div.sk-item {position: relative;z-index: 1;}#sk-container-id-1 div.sk-parallel {display: flex;align-items: stretch;justify-content: center;background-color: white;position: relative;}#sk-container-id-1 div.sk-item::before, #sk-container-id-1 div.sk-parallel-item::before {content: \"\";position: absolute;border-left: 1px solid gray;box-sizing: border-box;top: 0;bottom: 0;left: 50%;z-index: -1;}#sk-container-id-1 div.sk-parallel-item {display: flex;flex-direction: column;z-index: 1;position: relative;background-color: white;}#sk-container-id-1 div.sk-parallel-item:first-child::after {align-self: flex-end;width: 50%;}#sk-container-id-1 div.sk-parallel-item:last-child::after {align-self: flex-start;width: 50%;}#sk-container-id-1 div.sk-parallel-item:only-child::after {width: 0;}#sk-container-id-1 div.sk-dashed-wrapped {border: 1px dashed gray;margin: 0 0.4em 0.5em 0.4em;box-sizing: border-box;padding-bottom: 0.4em;background-color: white;}#sk-container-id-1 div.sk-label label {font-family: monospace;font-weight: bold;display: inline-block;line-height: 1.2em;}#sk-container-id-1 div.sk-label-container {text-align: center;}#sk-container-id-1 div.sk-container {/* jupyter's `normalize.less` sets `[hidden] { display: none; }` but bootstrap.min.css set `[hidden] { display: none !important; }` so we also need the `!important` here to be able to override the default hidden behavior on the sphinx rendered scikit-learn.org. See: https://github.com/scikit-learn/scikit-learn/issues/21755 */display: inline-block !important;position: relative;}#sk-container-id-1 div.sk-text-repr-fallback {display: none;}</style><div id=\"sk-container-id-1\" class=\"sk-top-container\"><div class=\"sk-text-repr-fallback\"><pre>RandomForestClassifier(n_estimators=80, random_state=42)</pre><b>In a Jupyter environment, please rerun this cell to show the HTML representation or trust the notebook. <br />On GitHub, the HTML representation is unable to render, please try loading this page with nbviewer.org.</b></div><div class=\"sk-container\" hidden><div class=\"sk-item\"><div class=\"sk-estimator sk-toggleable\"><input class=\"sk-toggleable__control sk-hidden--visually\" id=\"sk-estimator-id-1\" type=\"checkbox\" checked><label for=\"sk-estimator-id-1\" class=\"sk-toggleable__label sk-toggleable__label-arrow\">RandomForestClassifier</label><div class=\"sk-toggleable__content\"><pre>RandomForestClassifier(n_estimators=80, random_state=42)</pre></div></div></div></div></div>"
      ],
      "text/plain": [
       "RandomForestClassifier(n_estimators=80, random_state=42)"
      ]
     },
     "execution_count": 10,
     "metadata": {},
     "output_type": "execute_result"
    }
   ],
   "source": [
    "clf.fit(X_train, y_train)"
   ]
  },
  {
   "cell_type": "code",
   "execution_count": 11,
   "id": "8a4c0fb3-532e-4b34-ab7f-778644263fb1",
   "metadata": {},
   "outputs": [
    {
     "data": {
      "text/plain": [
       "array(['SEKER', 'BARBUNYA', 'SEKER', ..., 'CALI', 'SIRA', 'SIRA'],\n",
       "      dtype=object)"
      ]
     },
     "execution_count": 11,
     "metadata": {},
     "output_type": "execute_result"
    }
   ],
   "source": [
    "predictions = clf.predict(X_test)\n",
    "predictions"
   ]
  },
  {
   "cell_type": "code",
   "execution_count": 12,
   "id": "01489c75-1061-400c-809d-43841b85e65e",
   "metadata": {},
   "outputs": [
    {
     "name": "stdout",
     "output_type": "stream",
     "text": [
      "Accuracy: 0.921833676168087\n",
      "\n",
      "Classification Report:\n",
      "               precision    recall  f1-score   support\n",
      "\n",
      "    BARBUNYA       0.93      0.90      0.91       344\n",
      "      BOMBAY       1.00      1.00      1.00       142\n",
      "        CALI       0.93      0.94      0.93       402\n",
      "    DERMASON       0.90      0.92      0.91       851\n",
      "       HOROZ       0.97      0.96      0.96       486\n",
      "       SEKER       0.95      0.94      0.94       513\n",
      "        SIRA       0.88      0.86      0.87       665\n",
      "\n",
      "    accuracy                           0.92      3403\n",
      "   macro avg       0.93      0.93      0.93      3403\n",
      "weighted avg       0.92      0.92      0.92      3403\n",
      "\n"
     ]
    }
   ],
   "source": [
    "\n",
    "accuracy = accuracy_score(y_test, predictions)\n",
    "report = classification_report(y_test, predictions)\n",
    "\n",
    "\n",
    "print(f\"Accuracy: {accuracy}\")\n",
    "print(\"\\nClassification Report:\\n\", report)"
   ]
  },
  {
   "cell_type": "code",
   "execution_count": null,
   "id": "8703e528-331b-4371-804f-23496ba38894",
   "metadata": {},
   "outputs": [],
   "source": []
  },
  {
   "cell_type": "code",
   "execution_count": null,
   "id": "02cb2fff-5dbd-43e7-8d6b-62d5ddd40386",
   "metadata": {},
   "outputs": [],
   "source": []
  },
  {
   "cell_type": "code",
   "execution_count": 19,
   "id": "cac4edf9-5aae-49db-96da-bf55282010e5",
   "metadata": {},
   "outputs": [
    {
     "ename": "SyntaxError",
     "evalue": "invalid syntax (1529577256.py, line 1)",
     "output_type": "error",
     "traceback": [
      "\u001b[0;36m  Cell \u001b[0;32mIn[19], line 1\u001b[0;36m\u001b[0m\n\u001b[0;31m    Adaptive Boost\u001b[0m\n\u001b[0m             ^\u001b[0m\n\u001b[0;31mSyntaxError\u001b[0m\u001b[0;31m:\u001b[0m invalid syntax\n"
     ]
    }
   ],
   "source": [
    "Adaptive Boost\n"
   ]
  },
  {
   "cell_type": "code",
   "execution_count": 13,
   "id": "f84dcbbd-cac6-4c63-b647-448c39a3846f",
   "metadata": {},
   "outputs": [
    {
     "name": "stdout",
     "output_type": "stream",
     "text": [
      "AdaBoost Results:\n",
      "Accuracy: 0.633492471538744\n",
      "\n",
      "Classification Report:\n",
      "               precision    recall  f1-score   support\n",
      "\n",
      "    BARBUNYA       0.00      0.00      0.00       261\n",
      "      BOMBAY       0.00      0.00      0.00       117\n",
      "        CALI       0.48      0.99      0.64       317\n",
      "    DERMASON       0.62      0.94      0.74       671\n",
      "       HOROZ       0.94      0.71      0.81       408\n",
      "       SEKER       0.96      0.20      0.33       413\n",
      "        SIRA       0.76      0.76      0.76       536\n",
      "\n",
      "    accuracy                           0.63      2723\n",
      "   macro avg       0.54      0.51      0.47      2723\n",
      "weighted avg       0.65      0.63      0.58      2723\n",
      "\n"
     ]
    },
    {
     "name": "stderr",
     "output_type": "stream",
     "text": [
      "/usr/local/lib/python3.10/dist-packages/sklearn/metrics/_classification.py:1471: UndefinedMetricWarning: Precision and F-score are ill-defined and being set to 0.0 in labels with no predicted samples. Use `zero_division` parameter to control this behavior.\n",
      "  _warn_prf(average, modifier, msg_start, len(result))\n",
      "/usr/local/lib/python3.10/dist-packages/sklearn/metrics/_classification.py:1471: UndefinedMetricWarning: Precision and F-score are ill-defined and being set to 0.0 in labels with no predicted samples. Use `zero_division` parameter to control this behavior.\n",
      "  _warn_prf(average, modifier, msg_start, len(result))\n",
      "/usr/local/lib/python3.10/dist-packages/sklearn/metrics/_classification.py:1471: UndefinedMetricWarning: Precision and F-score are ill-defined and being set to 0.0 in labels with no predicted samples. Use `zero_division` parameter to control this behavior.\n",
      "  _warn_prf(average, modifier, msg_start, len(result))\n"
     ]
    }
   ],
   "source": [
    "import pandas as pd\n",
    "from sklearn.model_selection import train_test_split\n",
    "from sklearn.ensemble import AdaBoostClassifier\n",
    "from sklearn.metrics import accuracy_score, classification_report\n",
    "\n",
    "target_variable = 'Class'\n",
    "\n",
    "X = df.drop(target_variable, axis=1)  \n",
    "y = df[target_variable]  \n",
    "X_train, X_test, y_train, y_test = train_test_split(X, y, test_size=0.2, random_state=42)\n",
    "\n",
    "clf_adaboost = AdaBoostClassifier(n_estimators=50, random_state=42)\n",
    "\n",
    "clf_adaboost.fit(X_train, y_train)\n",
    "\n",
    "predictions_adaboost = clf_adaboost.predict(X_test)\n",
    "\n",
    "accuracy_adaboost = accuracy_score(y_test, predictions_adaboost)\n",
    "report_adaboost = classification_report(y_test, predictions_adaboost)\n",
    "\n",
    "print(\"AdaBoost Results:\")\n",
    "print(f\"Accuracy: {accuracy_adaboost}\")\n",
    "print(\"\\nClassification Report:\\n\", report_adaboost)\n"
   ]
  },
  {
   "cell_type": "code",
   "execution_count": null,
   "id": "cbcef039-7bfc-461c-87fc-971546cf0f29",
   "metadata": {},
   "outputs": [],
   "source": []
  },
  {
   "cell_type": "code",
   "execution_count": 21,
   "id": "e2be18b2-34f3-4c24-8a7a-b0db6792955b",
   "metadata": {},
   "outputs": [
    {
     "ename": "SyntaxError",
     "evalue": "invalid syntax (298059701.py, line 1)",
     "output_type": "error",
     "traceback": [
      "\u001b[0;36m  Cell \u001b[0;32mIn[21], line 1\u001b[0;36m\u001b[0m\n\u001b[0;31m    Gradient Boost\u001b[0m\n\u001b[0m             ^\u001b[0m\n\u001b[0;31mSyntaxError\u001b[0m\u001b[0;31m:\u001b[0m invalid syntax\n"
     ]
    }
   ],
   "source": [
    "Gradient Boost"
   ]
  },
  {
   "cell_type": "code",
   "execution_count": 14,
   "id": "6a714f45-d92f-4bf1-8492-ab28baa865cb",
   "metadata": {},
   "outputs": [
    {
     "name": "stdout",
     "output_type": "stream",
     "text": [
      "\n",
      "Gradient Boosting Results:\n",
      "Accuracy: 0.9236136614028645\n",
      "\n",
      "Classification Report:\n",
      "               precision    recall  f1-score   support\n",
      "\n",
      "    BARBUNYA       0.92      0.90      0.91       261\n",
      "      BOMBAY       1.00      1.00      1.00       117\n",
      "        CALI       0.93      0.95      0.94       317\n",
      "    DERMASON       0.90      0.92      0.91       671\n",
      "       HOROZ       0.97      0.95      0.96       408\n",
      "       SEKER       0.97      0.93      0.95       413\n",
      "        SIRA       0.87      0.88      0.87       536\n",
      "\n",
      "    accuracy                           0.92      2723\n",
      "   macro avg       0.94      0.93      0.93      2723\n",
      "weighted avg       0.92      0.92      0.92      2723\n",
      "\n"
     ]
    }
   ],
   "source": [
    "from sklearn.ensemble import GradientBoostingClassifier\n",
    "\n",
    "clf_gradient_boosting = GradientBoostingClassifier(n_estimators=100, random_state=42)\n",
    "\n",
    "clf_gradient_boosting.fit(X_train, y_train)\n",
    "\n",
    "predictions_gradient_boosting = clf_gradient_boosting.predict(X_test)\n",
    "\n",
    "accuracy_gradient_boosting = accuracy_score(y_test, predictions_gradient_boosting)\n",
    "report_gradient_boosting = classification_report(y_test, predictions_gradient_boosting)\n",
    "\n",
    "print(\"\\nGradient Boosting Results:\")\n",
    "print(f\"Accuracy: {accuracy_gradient_boosting}\")\n",
    "print(\"\\nClassification Report:\\n\", report_gradient_boosting)\n"
   ]
  },
  {
   "cell_type": "code",
   "execution_count": null,
   "id": "86116c6a-01bb-45d0-a25e-599d988efe2f",
   "metadata": {},
   "outputs": [],
   "source": []
  },
  {
   "cell_type": "code",
   "execution_count": 23,
   "id": "5d899531-b4f1-4880-ae65-aeb2bd873d3d",
   "metadata": {},
   "outputs": [
    {
     "ename": "SyntaxError",
     "evalue": "invalid syntax (2361468770.py, line 1)",
     "output_type": "error",
     "traceback": [
      "\u001b[0;36m  Cell \u001b[0;32mIn[23], line 1\u001b[0;36m\u001b[0m\n\u001b[0;31m    XG Boost\u001b[0m\n\u001b[0m       ^\u001b[0m\n\u001b[0;31mSyntaxError\u001b[0m\u001b[0;31m:\u001b[0m invalid syntax\n"
     ]
    }
   ],
   "source": [
    "XG Boost"
   ]
  },
  {
   "cell_type": "code",
   "execution_count": 15,
   "id": "afd5eff5-a560-48e6-9335-b0841ff32e41",
   "metadata": {},
   "outputs": [
    {
     "name": "stdout",
     "output_type": "stream",
     "text": [
      "\n",
      "XGBoost Results:\n",
      "Accuracy: 0.9239809034153507\n",
      "\n",
      "Classification Report:\n",
      "               precision    recall  f1-score   support\n",
      "\n",
      "           0       0.93      0.91      0.92       261\n",
      "           1       1.00      1.00      1.00       117\n",
      "           2       0.94      0.96      0.95       317\n",
      "           3       0.90      0.91      0.90       671\n",
      "           4       0.98      0.96      0.97       408\n",
      "           5       0.97      0.94      0.95       413\n",
      "           6       0.85      0.88      0.86       536\n",
      "\n",
      "    accuracy                           0.92      2723\n",
      "   macro avg       0.94      0.94      0.94      2723\n",
      "weighted avg       0.92      0.92      0.92      2723\n",
      "\n"
     ]
    }
   ],
   "source": [
    "import pandas as pd\n",
    "from sklearn.model_selection import train_test_split\n",
    "from sklearn.preprocessing import LabelEncoder\n",
    "import xgboost as xgb\n",
    "from sklearn.metrics import accuracy_score, classification_report\n",
    "\n",
    "target_variable = 'Class'\n",
    "\n",
    "X = df.drop(target_variable, axis=1)\n",
    "y = df[target_variable]\n",
    "\n",
    "label_encoder = LabelEncoder()\n",
    "y_encoded = label_encoder.fit_transform(y)\n",
    "\n",
    "X_train, X_test, y_train, y_test = train_test_split(X, y_encoded, test_size=0.2, random_state=42)\n",
    "\n",
    "clf_xgboost = xgb.XGBClassifier(n_estimators=100, random_state=42)\n",
    "\n",
    "clf_xgboost.fit(X_train, y_train)\n",
    "\n",
    "predictions_xgboost = clf_xgboost.predict(X_test)\n",
    "predictions_original_labels = label_encoder.inverse_transform(predictions_xgboost)\n",
    "\n",
    "accuracy_xgboost = accuracy_score(y_test, predictions_xgboost)\n",
    "report_xgboost = classification_report(y_test, predictions_xgboost)\n",
    "\n",
    "print(\"\\nXGBoost Results:\")\n",
    "print(f\"Accuracy: {accuracy_xgboost}\")\n",
    "print(\"\\nClassification Report:\\n\", report_xgboost)\n"
   ]
  },
  {
   "cell_type": "code",
   "execution_count": null,
   "id": "a72b4c05-4f68-46a5-bfd5-0af3da91fcd5",
   "metadata": {},
   "outputs": [],
   "source": []
  },
  {
   "cell_type": "code",
   "execution_count": null,
   "id": "f60ed59e-c058-4d05-9596-d1d1075f1d98",
   "metadata": {},
   "outputs": [],
   "source": []
  },
  {
   "cell_type": "code",
   "execution_count": null,
   "id": "94ee9e20-9d56-48b5-b631-d9cd12679a34",
   "metadata": {},
   "outputs": [],
   "source": []
  },
  {
   "cell_type": "code",
   "execution_count": null,
   "id": "5b60bc41-48ea-45b7-96df-680f3c876c2b",
   "metadata": {},
   "outputs": [],
   "source": []
  },
  {
   "cell_type": "code",
   "execution_count": null,
   "id": "8f9392ce-4bb5-4b13-8524-d9a4944943d7",
   "metadata": {},
   "outputs": [],
   "source": []
  },
  {
   "cell_type": "code",
   "execution_count": null,
   "id": "2cdf8a10-aef3-412e-809a-14de40f101d8",
   "metadata": {},
   "outputs": [],
   "source": []
  },
  {
   "cell_type": "code",
   "execution_count": 6,
   "id": "3ddbc733-a7d9-4968-9d39-d7a08497bc07",
   "metadata": {},
   "outputs": [
    {
     "name": "stderr",
     "output_type": "stream",
     "text": [
      "/usr/local/lib/python3.10/dist-packages/sklearn/linear_model/_logistic.py:460: ConvergenceWarning: lbfgs failed to converge (status=1):\n",
      "STOP: TOTAL NO. of ITERATIONS REACHED LIMIT.\n",
      "\n",
      "Increase the number of iterations (max_iter) or scale the data as shown in:\n",
      "    https://scikit-learn.org/stable/modules/preprocessing.html\n",
      "Please also refer to the documentation for alternative solver options:\n",
      "    https://scikit-learn.org/stable/modules/linear_model.html#logistic-regression\n",
      "  n_iter_i = _check_optimize_result(\n"
     ]
    },
    {
     "name": "stdout",
     "output_type": "stream",
     "text": [
      "Stacked Model Accuracy: 0.8340066103562247\n"
     ]
    }
   ],
   "source": [
    "from sklearn.model_selection import train_test_split\n",
    "from sklearn.ensemble import RandomForestClassifier\n",
    "from sklearn.svm import SVC\n",
    "from sklearn.tree import DecisionTreeClassifier\n",
    "from sklearn.linear_model import LogisticRegression\n",
    "from sklearn.metrics import accuracy_score\n",
    "from sklearn.preprocessing import LabelEncoder\n",
    "import numpy as np\n",
    "\n",
    "X = df.drop(columns=['Class'])\n",
    "y = df['Class']\n",
    "\n",
    "X_train, X_test, y_train, y_test = train_test_split(X, y, test_size=0.2, random_state=42)\n",
    "\n",
    "label_encoder = LabelEncoder()\n",
    "y_train_encoded = label_encoder.fit_transform(y_train)\n",
    "y_test_encoded = label_encoder.transform(y_test)\n",
    "\n",
    "rf = RandomForestClassifier()\n",
    "svm = SVC()\n",
    "dt = DecisionTreeClassifier()\n",
    "\n",
    "rf.fit(X_train, y_train_encoded)\n",
    "svm.fit(X_train, y_train_encoded)\n",
    "dt.fit(X_train, y_train_encoded)\n",
    "\n",
    "rf_pred = rf.predict(X_test)\n",
    "svm_pred = svm.predict(X_test)\n",
    "dt_pred = dt.predict(X_test)\n",
    "\n",
    "stacked_X_train = np.column_stack((rf_pred, svm_pred, dt_pred))\n",
    "\n",
    "lr = LogisticRegression()\n",
    "lr.fit(stacked_X_train, y_test_encoded)\n",
    "\n",
    "stacked_X_test = np.column_stack((rf.predict(X_test), svm.predict(X_test), dt.predict(X_test)))\n",
    "stacked_pred = lr.predict(stacked_X_test)\n",
    "\n",
    "predicted_classes = label_encoder.inverse_transform(stacked_pred)\n",
    "\n",
    "accuracy = accuracy_score(y_test, predicted_classes)\n",
    "print(\"Stacked Model Accuracy:\", accuracy)\n"
   ]
  },
  {
   "cell_type": "code",
   "execution_count": null,
   "id": "cc4ca1a5-8f15-402e-bfe3-b2d6cf55d231",
   "metadata": {},
   "outputs": [],
   "source": []
  }
 ],
 "metadata": {
  "kernelspec": {
   "display_name": "Python 3 (ipykernel)",
   "language": "python",
   "name": "python3"
  },
  "language_info": {
   "codemirror_mode": {
    "name": "ipython",
    "version": 3
   },
   "file_extension": ".py",
   "mimetype": "text/x-python",
   "name": "python",
   "nbconvert_exporter": "python",
   "pygments_lexer": "ipython3",
   "version": "3.10.12"
  }
 },
 "nbformat": 4,
 "nbformat_minor": 5
}
